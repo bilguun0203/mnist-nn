{
 "cells": [
  {
   "cell_type": "markdown",
   "metadata": {
    "collapsed": true
   },
   "source": [
    "# Neural Network - MNIST"
   ]
  },
  {
   "cell_type": "markdown",
   "metadata": {},
   "source": [
    "## Өгөгдөл бэлдэх"
   ]
  },
  {
   "cell_type": "code",
   "execution_count": 1,
   "metadata": {},
   "outputs": [],
   "source": [
    "import matplotlib.pyplot as plt\n",
    "import pandas as pd\n",
    "import numpy as np\n",
    "import random\n",
    "import mnist\n",
    "import helper\n",
    "% matplotlib inline\n",
    "\n",
    "train_datas, train_labels, test_datas, test_labels = mnist.load()\n"
   ]
  },
  {
   "cell_type": "markdown",
   "metadata": {},
   "source": [
    "### Normalize data"
   ]
  },
  {
   "cell_type": "code",
   "execution_count": 2,
   "metadata": {},
   "outputs": [],
   "source": [
    "def normalize(data):\n",
    "    data_norm = data\n",
    "    data_norm = [np.subtract(item, np.mean(item)) for item in data_norm]\n",
    "    data_norm = [np.divide(item, np.std(item)) for item in data_norm]\n",
    "    return np.array(data_norm)"
   ]
  },
  {
   "cell_type": "code",
   "execution_count": 3,
   "metadata": {},
   "outputs": [],
   "source": [
    "train_datas_norm = normalize(train_datas)\n",
    "test_datas_norm = normalize(test_datas)"
   ]
  },
  {
   "cell_type": "markdown",
   "metadata": {},
   "source": [
    "### One Hot Encoding"
   ]
  },
  {
   "cell_type": "code",
   "execution_count": 4,
   "metadata": {},
   "outputs": [
    {
     "name": "stderr",
     "output_type": "stream",
     "text": [
      "/opt/anaconda/lib/python3.7/site-packages/ipykernel_launcher.py:1: FutureWarning: Method .as_matrix will be removed in a future version. Use .values instead.\n",
      "  \"\"\"Entry point for launching an IPython kernel.\n",
      "/opt/anaconda/lib/python3.7/site-packages/ipykernel_launcher.py:2: FutureWarning: Method .as_matrix will be removed in a future version. Use .values instead.\n",
      "  \n"
     ]
    }
   ],
   "source": [
    "train_y = np.array(pd.get_dummies(train_labels).as_matrix())\n",
    "test_y = np.array(pd.get_dummies(test_labels).as_matrix())"
   ]
  },
  {
   "cell_type": "markdown",
   "metadata": {},
   "source": [
    "### NaN checker"
   ]
  },
  {
   "cell_type": "code",
   "execution_count": 5,
   "metadata": {},
   "outputs": [],
   "source": [
    "def is_nan(x, msg):\n",
    "    if type(x) is list or type(x) is np.ndarray:\n",
    "        if type(x[0]) is list:\n",
    "            for i, t in enumerate(x):\n",
    "                if np.isnan(np.array(t, dtype=np.float64)).any():\n",
    "                    print(x)\n",
    "                    raise ValueError('NaN ' + str(i) + ': ' + msg)\n",
    "            return None\n",
    "        if type(x[0]) is np.ndarray:\n",
    "            for i, t in enumerate(x):\n",
    "                if np.isnan(t).any():\n",
    "                    print(x)\n",
    "                    raise ValueError('NaN ' + str(i) + ': ' + msg)\n",
    "            return None\n",
    "    try:\n",
    "        if np.isnan(np.array(x, dtype=np.float64)).any():\n",
    "            print(x)\n",
    "            raise ValueError('NaN: ' + msg)\n",
    "    except:\n",
    "        print(x)\n",
    "        raise ValueError('NaN: ' + msg)\n"
   ]
  },
  {
   "cell_type": "markdown",
   "metadata": {},
   "source": [
    "## Тооцоолол хийхэд хэрэг болох функцууд"
   ]
  },
  {
   "cell_type": "markdown",
   "metadata": {},
   "source": [
    "### Нарийвчлал тооцох"
   ]
  },
  {
   "cell_type": "code",
   "execution_count": 6,
   "metadata": {},
   "outputs": [],
   "source": [
    "def accuracy(predicted, target):\n",
    "    correct = 0\n",
    "    for p, y in zip(predicted, target):\n",
    "        if np.argmax(p) == np.argmax(y):\n",
    "            correct += 1\n",
    "    return correct/predicted.shape[0]*100"
   ]
  },
  {
   "cell_type": "markdown",
   "metadata": {},
   "source": [
    "### RELU\n",
    "\n",
    "#### Forward\n",
    "\n",
    "\\begin{equation*}\n",
    "relu(y_i) = \\begin{cases} 0, & y_i < 0 \\\\ y_i, & y_i\\geq 0 \\end{cases}\n",
    "\\end{equation*}\n",
    "\n",
    "#### Backward\n",
    "\n",
    "\\begin{equation*}\n",
    "\\frac{\\partial relu(y_i)}{\\partial y_i} = \\begin{cases} 0, & y_i < 0 \\\\ 1, & y_i\\geq 0 \\end{cases}\n",
    "\\end{equation*}"
   ]
  },
  {
   "cell_type": "code",
   "execution_count": 51,
   "metadata": {},
   "outputs": [],
   "source": [
    "def relu(x, derivative=False):\n",
    "    if derivative:\n",
    "        is_nan(x, 'relu.backward - x')\n",
    "        return 1 * (x >= 0)\n",
    "    else:\n",
    "        is_nan(x, 'relu.forward - x')\n",
    "        return x * (x > 0)"
   ]
  },
  {
   "cell_type": "markdown",
   "metadata": {},
   "source": [
    "### Softmax\n",
    "\n",
    "\\begin{equation*}\n",
    "softmax(y_i) = \\frac{e^{y_i}}{\\sum_{j}e^{y_j}}\n",
    "\\end{equation*}\n"
   ]
  },
  {
   "cell_type": "code",
   "execution_count": 8,
   "metadata": {},
   "outputs": [],
   "source": [
    "def softmax(x):\n",
    "#     print(x)\n",
    "    is_nan(x, 'softmax.forward - x')\n",
    "    if np.ndim(x) == 1:\n",
    "        x = x.T - np.max(x)\n",
    "    else:\n",
    "        x = x.T - np.max(x, axis=1)\n",
    "    is_nan(x, 'softmax.forward - x-=max(x)')\n",
    "    y = (np.exp(x) / np.sum(np.exp(x),axis=0)).T\n",
    "    is_nan(y, 'softmax.forward - y')\n",
    "    return y"
   ]
  },
  {
   "cell_type": "markdown",
   "metadata": {},
   "source": [
    "### Negative Log Likelihood\n",
    "\n",
    "- Y* - жинхэнэ ангилал\n",
    "- Y - бодсон ангилал\n",
    "- n - сургалтын өгөгдлийн тоо\n",
    "\n",
    "#### Forward\n",
    "\n",
    "\\begin{equation*}\n",
    "L = - \\sum_{n} \\sum_{i} Y_{ni}^* log(Y_{ni})\n",
    "\\end{equation*}\n",
    "\n",
    "#### Backward\n",
    "\n",
    "\\begin{equation*}\n",
    "\\frac{\\partial L}{\\partial z_i} = Y_i - Y_{i}^*\n",
    "\\end{equation*}"
   ]
  },
  {
   "cell_type": "code",
   "execution_count": 9,
   "metadata": {},
   "outputs": [],
   "source": [
    "def nll(P, Y, derivative=False):\n",
    "    is_nan(P, 'nll - P')\n",
    "    is_nan(Y, 'nll - Y')\n",
    "    P = np.array(P)\n",
    "    Y = np.array(Y)\n",
    "    if derivative:\n",
    "        return P - Y\n",
    "    else:\n",
    "#         print('[0 -- 10]')\n",
    "#         print(P[0:10])\n",
    "#         print('[100 -- 110]')\n",
    "#         print(P[100:110])\n",
    "        l = np.log(P) * Y\n",
    "        is_nan(l, 'nll.forward - l')\n",
    "        return -np.mean(l)"
   ]
  },
  {
   "cell_type": "markdown",
   "metadata": {},
   "source": [
    "## Neural Network сургах"
   ]
  },
  {
   "cell_type": "code",
   "execution_count": 31,
   "metadata": {},
   "outputs": [],
   "source": [
    "class NN:\n",
    "    def __init__(self, classes, layer_neuron_counts):\n",
    "        # Давхарга бүрийн нейроны тоо (жишээ нь [784, 64, 10])\n",
    "        self.layer_neuron_counts = layer_neuron_counts\n",
    "        # Ангилалууд\n",
    "        self.classes = classes\n",
    "        # Weight & Bias\n",
    "        self.weights = []\n",
    "        self.biases = []\n",
    "        # Activation функц ашиглаагүй үеийн утгуудыг хадгалана\n",
    "        self.layers = []\n",
    "        # Activation функц ашиглаад гарсан утгуудыг хадгалана\n",
    "        self.layers_activated = []\n",
    "        # Loss утгуудыг хадгалах\n",
    "        self.loss = []\n",
    "        # Accuracy\n",
    "        self.acc = []\n",
    "        # SGD-н бодсон утгууд (dW, dB) болон моментум (vW, vB) хадгалах \n",
    "        self.cache = {\n",
    "            'dW': 0,\n",
    "            'dB': 0,\n",
    "            'vW': 0,\n",
    "            'vB': 0\n",
    "        }\n",
    "\n",
    "        # Weight болон bias-уудыг санамсаргүйгээр үүсгэх\n",
    "        self.initialize_parameters()\n",
    "\n",
    "    def initialize_parameters(self):\n",
    "        for i in range(1, len(self.layer_neuron_counts)):\n",
    "            prev_layer_size = self.layer_neuron_counts[i - 1]\n",
    "            next_layer_size = self.layer_neuron_counts[i]\n",
    "            self.weights.append(np.random.randn(prev_layer_size, next_layer_size) * 0.1)\n",
    "            self.biases.append(np.random.randn(next_layer_size) * 0.1)\n",
    "\n",
    "    def calculate_layer(self, i, activation='relu'):\n",
    "        is_nan(self.layers_activated[i], 'calculate_layer - x')\n",
    "        # Activation функц ашиглахаас өмнөх утга (H = WX + b)\n",
    "        z = self.layers_activated[i] @ self.weights[i] + self.biases[i]\n",
    "        # Activation функц ашигласны дараах утга (relu эсвэл softmax)\n",
    "        a = None\n",
    "        if activation == 'relu':\n",
    "            a = relu(z)\n",
    "        elif activation == 'softmax':\n",
    "            a = softmax(z)\n",
    "        return z, a\n",
    "\n",
    "    def forward(self, x):\n",
    "        self.layers = [x]\n",
    "        self.layers_activated = [x]\n",
    "        for i in range(len(self.layer_neuron_counts) - 1):\n",
    "            # Activation функц ашиглахаас өмнөх утга (H = WX + b)\n",
    "            z = None\n",
    "            # Activation функц ашигласны дараах утга (relu(H) эсвэл softmax(H))\n",
    "            a = None\n",
    "            if i == len(self.layer_neuron_counts) - 2:\n",
    "                z, a = self.calculate_layer(i, 'softmax')\n",
    "            else:\n",
    "                z, a = self.calculate_layer(i, 'relu')\n",
    "            self.layers.append(z)\n",
    "            self.layers_activated.append(a)\n",
    "            is_nan(self.layers[len(self.layers) - 1],\n",
    "                   'forward-' + str(i) + ' - self.layers[' + str(len(self.layers) - 1) + ']')\n",
    "            is_nan(self.layers_activated[len(self.layers_activated) - 1],\n",
    "                   'forward-' + str(i) + ' - self.layers_activated[' + str(len(self.layers) - 1) + ']')\n",
    "        return self.layers_activated[-1]\n",
    "\n",
    "    def backward(self, prediction, target):\n",
    "        dW = []\n",
    "        dB = []\n",
    "        # ---\n",
    "        d = [nll(prediction, target, derivative=True)]\n",
    "        m = len(d)\n",
    "        is_nan(d, 'sgd - d[0]')\n",
    "        dW.append(np.transpose(self.layers_activated[1]) @ d[0])\n",
    "        is_nan(dW, 'sgd - dW[0]')\n",
    "        dB.append(np.sum(d[0], axis=0))\n",
    "        is_nan(dB, 'sgd - db[0]')\n",
    "        # ---\n",
    "        d.append(np.multiply(d[0] @ np.transpose(self.weights[1]), relu(self.layers_activated[1], True)))\n",
    "        is_nan(d, 'sgd - d[1]')\n",
    "        dW.append(np.transpose(self.layers_activated[0]) @ d[1])\n",
    "        is_nan(dW, 'sgd - dW[1]')\n",
    "        dB.append(np.sum(d[1], axis=0))\n",
    "        is_nan(dB, 'sgd - db[1]')\n",
    "        dW.reverse()\n",
    "        dB.reverse()\n",
    "        return np.multiply(1/m, dW), np.multiply(1/m, dB)\n",
    "\n",
    "    def train(self, train_x, train_y, epoch, batch_size, learning_rate, alpha=0):\n",
    "        index = np.arange(train_x.shape[0])\n",
    "        # Epoch\n",
    "        for e in range(1, epoch + 1):\n",
    "            print('Epoch: ' + str(e) + '/' + str(epoch))\n",
    "            batch_count = round(len(train_y) / batch_size)\n",
    "            np.random.shuffle(index)\n",
    "            epoch_loss = []\n",
    "            epoch_accuracy = []\n",
    "            # Batch\n",
    "            for b in range(0, batch_count):\n",
    "                # Batch болгон хуваах\n",
    "                l = b * batch_size\n",
    "                r = l + batch_size\n",
    "                batch_x = [train_x[i] for i in index[l:r]]\n",
    "                batch_y = [train_y[i] for i in index[l:r]]\n",
    "                # Batch-г боловсруулах\n",
    "                dW, dB, loss, acc = self.batch_process(batch_x, batch_y)\n",
    "                # Параметруудыг шинэчлэх\n",
    "                self.update_parameters(dW, dB, learning_rate, alpha)\n",
    "                # Loss, accuracy хадгалах\n",
    "                epoch_loss.append(loss)\n",
    "                epoch_accuracy.append(acc)\n",
    "\n",
    "                helper.print_progress(b + 1, batch_count, loss=np.mean(epoch_loss), accuracy=np.mean(epoch_accuracy))\n",
    "            self.loss.append(epoch_loss)\n",
    "            self.acc.append(epoch_accuracy)\n",
    "            print('')\n",
    "\n",
    "    def batch_process(self, train_x, train_y):\n",
    "        is_nan(self.weights, 'batch_process - self.weights')\n",
    "        is_nan(self.biases, 'batch_process - self.biases')\n",
    "        # Forward propagation\n",
    "        predicted_y = self.forward(train_x)\n",
    "        is_nan(predicted_y, 'batch_process - predicted_y')\n",
    "        # Loss тооцох\n",
    "        loss = nll(predicted_y, train_y)\n",
    "        is_nan(loss, 'batch_process - loss')\n",
    "        # Backward propagation\n",
    "        dW, dB = self.backward(predicted_y, train_y)\n",
    "        return dW, dB, loss, accuracy(predicted_y, train_y)\n",
    "\n",
    "    def update_parameters(self, dW, dB, learning_rate, alpha):\n",
    "#         [print(i) for i in dW]\n",
    "        self.cache['vW'] = np.multiply(alpha, self.cache['vW']) + np.multiply((1 - alpha), dW)\n",
    "        self.cache['vB'] = np.multiply(alpha, self.cache['vB']) + np.multiply((1 - alpha), dB)\n",
    "        is_nan(self.cache['vW'], 'batch_process - self.cache - vW')\n",
    "        is_nan(self.cache['vB'], 'batch_process - self.cache - vW')\n",
    "        self.cache['dW'] = dW\n",
    "        self.cache['dB'] = dB\n",
    "        # Update weights\n",
    "        self.weights = np.subtract(self.weights, np.multiply(learning_rate, self.cache['vW']))\n",
    "        is_nan(self.weights, 'batch_process - self.weights - W')\n",
    "        # Update biases\n",
    "        self.biases = np.subtract(self.biases, np.multiply(learning_rate, self.cache['vB']))\n",
    "        is_nan(self.biases, 'batch_process - self.biases - b')\n"
   ]
  },
  {
   "cell_type": "code",
   "execution_count": 37,
   "metadata": {},
   "outputs": [
    {
     "name": "stdout",
     "output_type": "stream",
     "text": [
      "Epoch: 1/15\n",
      "[============================================================] 100.0% 400/400 loss: 0.04780 accuracy: 87.218%\n",
      "Epoch: 2/15\n",
      "[============================================================] 100.0% 400/400 loss: 0.02613 accuracy: 92.348%\n",
      "Epoch: 3/15\n",
      "[============================================================] 100.0% 400/400 loss: 0.02283 accuracy: 93.352%\n",
      "Epoch: 4/15\n",
      "[============================================================] 100.0% 400/400 loss: 0.02078 accuracy: 94.025%\n",
      "Epoch: 5/15\n",
      "[============================================================] 100.0% 400/400 loss: 0.01952 accuracy: 94.285%\n",
      "Epoch: 6/15\n",
      "[============================================================] 100.0% 400/400 loss: 0.01854 accuracy: 94.585%\n",
      "Epoch: 7/15\n",
      "[============================================================] 100.0% 400/400 loss: 0.01783 accuracy: 94.878%\n",
      "Epoch: 8/15\n",
      "[============================================================] 100.0% 400/400 loss: 0.01739 accuracy: 94.940%\n",
      "Epoch: 9/15\n",
      "[============================================================] 100.0% 400/400 loss: 0.01684 accuracy: 95.107%\n",
      "Epoch: 10/15\n",
      "[============================================================] 100.0% 400/400 loss: 0.01649 accuracy: 95.252%\n",
      "Epoch: 11/15\n",
      "[============================================================] 100.0% 400/400 loss: 0.01630 accuracy: 95.193%\n",
      "Epoch: 12/15\n",
      "[============================================================] 100.0% 400/400 loss: 0.01598 accuracy: 95.327%\n",
      "Epoch: 13/15\n",
      "[============================================================] 100.0% 400/400 loss: 0.01576 accuracy: 95.332%\n",
      "Epoch: 14/15\n",
      "[============================================================] 100.0% 400/400 loss: 0.01567 accuracy: 95.453%\n",
      "Epoch: 15/15\n",
      "[============================================================] 100.0% 400/400 loss: 0.01551 accuracy: 95.470%\n"
     ]
    }
   ],
   "source": [
    "classes = [0, 1, 2, 3, 4, 5, 6, 7, 8, 9]\n",
    "nn = NN(classes, [len(train_datas_norm[0]), 300, len(classes)])\n",
    "nn.train(train_datas_norm, train_y, 15, 150, 0.0004, 0.9)\n"
   ]
  },
  {
   "cell_type": "code",
   "execution_count": 50,
   "metadata": {},
   "outputs": [
    {
     "data": {
      "image/png": "[encoded data removed]",
      "text/plain": [
       "<Figure size 432x288 with 1 Axes>"
      ]
     },
     "metadata": {
      "needs_background": "light"
     },
     "output_type": "display_data"
    },
    {
     "data": {
      "image/png": "[encoded data removed]",
      "text/plain": [
       "<Figure size 432x288 with 1 Axes>"
      ]
     },
     "metadata": {
      "needs_background": "light"
     },
     "output_type": "display_data"
    }
   ],
   "source": [
    "# loss = [np.mean(l) for l in nn.loss]\n",
    "loss = np.array(nn.loss).ravel()\n",
    "# accuracy = [np.mean(a) for a in nn.acc]\n",
    "accuracy = np.array(nn.acc).ravel()\n",
    "plt.title('Loss')\n",
    "plt.plot(loss)\n",
    "plt.show()\n",
    "plt.title('Accuracy')\n",
    "plt.plot(accuracy)\n",
    "plt.show()"
   ]
  },
  {
   "cell_type": "markdown",
   "metadata": {},
   "source": [
    "## Шалгах"
   ]
  },
  {
   "cell_type": "code",
   "execution_count": 40,
   "metadata": {},
   "outputs": [
    {
     "name": "stdout",
     "output_type": "stream",
     "text": [
      "Accuracy: 94.26%\n"
     ]
    }
   ],
   "source": [
    "predicted = nn.forward(test_datas_norm)\n",
    "correct = 0\n",
    "for i, (p, y) in enumerate(zip(predicted, test_labels)):\n",
    "    if np.argmax(p) == y:\n",
    "        correct += 1\n",
    "accuracy = correct/predicted.shape[0]*100\n",
    "print('Accuracy:', str(accuracy) + '%')"
   ]
  },
  {
   "cell_type": "markdown",
   "metadata": {},
   "source": [
    "---\n",
    "\n",
    "_уламжлал шалгах_"
   ]
  },
  {
   "cell_type": "code",
   "execution_count": null,
   "metadata": {},
   "outputs": [],
   "source": [
    "# for i, d in enumerate(zip(training_images[0], training_images[1], training_images[2])):\n",
    "#     print(i, d)\n",
    "print(training_images[0][181])\n",
    "print(training_images[1][181])\n",
    "print(training_images[2][181])\n",
    "print(nn.weights[0][181][14])"
   ]
  },
  {
   "cell_type": "code",
   "execution_count": 27,
   "metadata": {},
   "outputs": [
    {
     "name": "stdout",
     "output_type": "stream",
     "text": [
      "loss-: 0.9532268026964797\n",
      "loss : 0.9532268026964797\n",
      "loss+: 0.9532268026964797\n",
      "dw-: 0.4547497121078805\n",
      "dw : 0.4547497121078805\n",
      "dw+: 0.4547497121078805\n",
      "\n",
      "dw-(l2-l1)/e:  0.4547497121078805\n"
     ]
    }
   ],
   "source": [
    "epsilon = 0.00001\n",
    "\n",
    "data = train_datas_norm[0:3][:]\n",
    "true_labels = train_y[0:3][:]\n",
    "predicted_labels = nn.forward(data)\n",
    "# print(np.multiply(true_labels, predicted_labels))\n",
    "loss = nll(predicted_labels, true_labels)\n",
    "dW, db = nn.backward(predicted_labels, true_labels)\n",
    "dw = dW[0][181][14]\n",
    "\n",
    "nn.weights[0][181][14] -= (epsilon/2)\n",
    "\n",
    "predicted_labels = nn.forward(data)\n",
    "# print(np.multiply(true_labels, predicted_labels))\n",
    "loss1 = nll(predicted_labels, true_labels)\n",
    "dW, db = nn.backward(predicted_labels, true_labels)\n",
    "dw1 = dW[0][181][14]\n",
    "\n",
    "nn.weights[0][181][14] += epsilon\n",
    "\n",
    "predicted_labels = nn.forward(data)\n",
    "# print(np.multiply(true_labels, predicted_labels))\n",
    "loss2 = nll(predicted_labels, true_labels)\n",
    "dW, db = nn.backward(predicted_labels, true_labels)\n",
    "dw2 = dW[0][181][14]\n",
    "\n",
    "print('loss-: ' + str(loss1))\n",
    "print('loss : ' + str(loss))\n",
    "print('loss+: ' + str(loss2))\n",
    "print('dw-: ' + str(dw1))\n",
    "print('dw : ' + str(dw))\n",
    "print('dw+: ' + str(dw2))\n",
    "\n",
    "print('\\ndw-(l2-l1)/e: ', dw -  ((loss2-loss1)/epsilon))"
   ]
  }
 ],
 "metadata": {
  "kernelspec": {
   "display_name": "Python 3",
   "language": "python",
   "name": "python3"
  },
  "language_info": {
   "codemirror_mode": {
    "name": "ipython",
    "version": 3
   },
   "file_extension": ".py",
   "mimetype": "text/x-python",
   "name": "python",
   "nbconvert_exporter": "python",
   "pygments_lexer": "ipython3",
   "version": "3.7.0"
  }
 },
 "nbformat": 4,
 "nbformat_minor": 1
}
