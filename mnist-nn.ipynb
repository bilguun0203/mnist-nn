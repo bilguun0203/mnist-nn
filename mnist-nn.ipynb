{
 "cells": [
  {
   "cell_type": "markdown",
   "metadata": {
    "collapsed": true
   },
   "source": [
    "# Neural Network - MNIST"
   ]
  },
  {
   "cell_type": "markdown",
   "metadata": {},
   "source": [
    "## Өгөгдөл унших"
   ]
  },
  {
   "cell_type": "code",
   "execution_count": 1,
   "metadata": {},
   "outputs": [],
   "source": [
    "import numpy as np\n",
    "import pickle\n",
    "import mnist\n",
    "from matplotlib import pyplot as plt\n",
    "# % matplotlib inline\n",
    "\n",
    "training_images, training_labels, test_images, test_labels = mnist.load()\n"
   ]
  },
  {
   "cell_type": "markdown",
   "metadata": {},
   "source": [
    "## Neural Network класс"
   ]
  },
  {
   "cell_type": "code",
   "execution_count": 2,
   "metadata": {},
   "outputs": [],
   "source": [
    "\n",
    "\n",
    "\n",
    "class NN:\n",
    "    def __init__(self, layer_neuron_counts=None):\n",
    "        self.layer_neuron_counts = layer_neuron_counts\n",
    "        self.weights = []\n",
    "        self.biases = []\n",
    "\n",
    "        if layer_neuron_counts is not None:\n",
    "            for i in range(1, len(self.layer_neuron_counts)):\n",
    "                prev_layer_size = self.layer_neuron_counts[i - 1]\n",
    "                next_layer_size = self.layer_neuron_counts[i]\n",
    "                self.weights.append(np.random.randn(prev_layer_size, next_layer_size)*0.01)\n",
    "                self.biases.append(np.zeros(next_layer_size))\n",
    "\n",
    "    def train(self, training_data, training_label, epoch, batch_size):\n",
    "        return\n",
    "\n",
    "    def relu(self, x, weight, bias):\n",
    "        h = x @ weight + bias\n",
    "        h[h <= 0] = 0\n",
    "        return h\n",
    "\n",
    "    def predict(self, x):\n",
    "        for weights, biases in zip(self.weights, self.biases):\n",
    "            x = self.relu(x, weights, biases)\n",
    "        return x\n",
    "\n",
    "    def load(self, filename):\n",
    "        with open(filename, 'rb') as input:\n",
    "            nn = pickle.load(input)\n",
    "            self.weights = nn.weights\n",
    "            self.biases = nn.biases\n",
    "\n",
    "    def save(self, filename):\n",
    "        with open(filename, 'wb') as output:\n",
    "            pickle.dump(self, output, pickle.HIGHEST_PROTOCOL)\n"
   ]
  },
  {
   "cell_type": "code",
   "execution_count": 3,
   "metadata": {
    "collapsed": false
   },
   "outputs": [],
   "source": [
    "classes = [0, 1, 2, 3, 4, 5, 6, 7, 8, 9]\n",
    "nn = NN([len(training_images[0]), 16, len(classes)])"
   ]
  }
 ],
 "metadata": {
  "kernelspec": {
   "display_name": "Python 2",
   "language": "python",
   "name": "python2"
  },
  "language_info": {
   "codemirror_mode": {
    "name": "ipython",
    "version": 2
   },
   "file_extension": ".py",
   "mimetype": "text/x-python",
   "name": "python",
   "nbconvert_exporter": "python",
   "pygments_lexer": "ipython2",
   "version": "2.7.6"
  }
 },
 "nbformat": 4,
 "nbformat_minor": 0
}
