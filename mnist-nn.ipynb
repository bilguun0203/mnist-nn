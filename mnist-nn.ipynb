{
 "cells": [
  {
   "cell_type": "markdown",
   "metadata": {
    "collapsed": true
   },
   "source": [
    "# Neural Network - MNIST"
   ]
  },
  {
   "cell_type": "markdown",
   "metadata": {},
   "source": [
    "## Өгөгдөл бэлдэх"
   ]
  },
  {
   "cell_type": "code",
   "execution_count": 1,
   "metadata": {},
   "outputs": [],
   "source": [
    "import matplotlib.pyplot as plt\n",
    "import pandas as pd\n",
    "import numpy as np\n",
    "import random\n",
    "import mnist\n",
    "import helper\n",
    "% matplotlib inline\n",
    "\n",
    "train_datas, train_labels, test_datas, test_labels = mnist.load()\n"
   ]
  },
  {
   "cell_type": "markdown",
   "metadata": {},
   "source": [
    "### Normalize data"
   ]
  },
  {
   "cell_type": "code",
   "execution_count": 17,
   "metadata": {},
   "outputs": [],
   "source": [
    "def normalize(data):\n",
    "    data_norm = data\n",
    "    data_norm = [np.subtract(item, np.mean(item)) for item in data_norm]\n",
    "    data_norm = [np.divide(item, np.std(item)) for item in data_norm]\n",
    "    return np.array(data_norm)"
   ]
  },
  {
   "cell_type": "code",
   "execution_count": 18,
   "metadata": {},
   "outputs": [],
   "source": [
    "train_datas_norm = normalize(train_datas)\n",
    "test_datas_norm = normalize(test_datas)"
   ]
  },
  {
   "cell_type": "markdown",
   "metadata": {},
   "source": [
    "### One Hot Encoding"
   ]
  },
  {
   "cell_type": "code",
   "execution_count": 4,
   "metadata": {},
   "outputs": [
    {
     "name": "stderr",
     "output_type": "stream",
     "text": [
      "/opt/anaconda/lib/python3.7/site-packages/ipykernel_launcher.py:1: FutureWarning: Method .as_matrix will be removed in a future version. Use .values instead.\n",
      "  \"\"\"Entry point for launching an IPython kernel.\n",
      "/opt/anaconda/lib/python3.7/site-packages/ipykernel_launcher.py:2: FutureWarning: Method .as_matrix will be removed in a future version. Use .values instead.\n",
      "  \n"
     ]
    }
   ],
   "source": [
    "train_y = np.array(pd.get_dummies(train_labels).as_matrix())\n",
    "test_y = np.array(pd.get_dummies(test_labels).as_matrix())"
   ]
  },
  {
   "cell_type": "markdown",
   "metadata": {},
   "source": [
    "### NaN checker"
   ]
  },
  {
   "cell_type": "code",
   "execution_count": 5,
   "metadata": {},
   "outputs": [],
   "source": [
    "def is_nan(x, msg):\n",
    "    if type(x) is list or type(x) is np.ndarray:\n",
    "        if type(x[0]) is list:\n",
    "            for i, t in enumerate(x):\n",
    "                if np.isnan(np.array(t, dtype=np.float64)).any():\n",
    "                    print(x)\n",
    "                    raise ValueError('NaN ' + str(i) + ': ' + msg)\n",
    "            return None\n",
    "        if type(x[0]) is np.ndarray:\n",
    "            for i, t in enumerate(x):\n",
    "                if np.isnan(t).any():\n",
    "                    print(x)\n",
    "                    raise ValueError('NaN ' + str(i) + ': ' + msg)\n",
    "            return None\n",
    "    try:\n",
    "        if np.isnan(np.array(x, dtype=np.float64)).any():\n",
    "            print(x)\n",
    "            raise ValueError('NaN: ' + msg)\n",
    "    except:\n",
    "        print(x)\n",
    "        raise ValueError('NaN: ' + msg)\n"
   ]
  },
  {
   "cell_type": "markdown",
   "metadata": {},
   "source": [
    "## Тооцоолол хийхэд хэрэг болох функцууд"
   ]
  },
  {
   "cell_type": "markdown",
   "metadata": {},
   "source": [
    "### RELU\n",
    "\n",
    "#### Forward\n",
    "\n",
    "\\begin{equation*}\n",
    "relu(y_i) = \\begin{cases} 0, & y_i < 0 \\\\ y_i, & y_i\\geq 0 \\end{cases}\n",
    "\\end{equation*}\n",
    "\n",
    "#### Backward\n",
    "\n",
    "\\begin{equation*}\n",
    "\\frac{\\partial relu(y_i)}{\\partial y_i} = \\begin{cases} 0, & y_i < 0 \\\\ 1, & y_i\\geq 0 \\end{cases}\n",
    "\\end{equation*}"
   ]
  },
  {
   "cell_type": "code",
   "execution_count": 6,
   "metadata": {},
   "outputs": [],
   "source": [
    "# class ReLU:\n",
    "#     @staticmethod\n",
    "#     def forward(y):\n",
    "#         is_nan(y, 'relu.forward - y')\n",
    "# #         is_nan(y, 'relu.forward - relu(y)')\n",
    "#         return y * (y > 0)\n",
    "    \n",
    "#     @staticmethod\n",
    "#     def backward(y, i=1):\n",
    "#         is_nan(y, 'relu.backward - y')\n",
    "#         return 1 * (y >= 0)\n",
    "# #         return np.heaviside(y, i)\n",
    "\n",
    "def relu(x, derivative=False):\n",
    "    if derivative:\n",
    "        is_nan(x, 'relu.backward - x')\n",
    "        return 1 * (x >= 0)\n",
    "    else:\n",
    "        is_nan(x, 'relu.forward - x')\n",
    "        return x * (x > 0)"
   ]
  },
  {
   "cell_type": "markdown",
   "metadata": {},
   "source": [
    "### Softmax\n",
    "\n",
    "\\begin{equation*}\n",
    "softmax(y_i) = \\frac{e^{y_i}}{\\sum_{j}e^{y_j}}\n",
    "\\end{equation*}\n"
   ]
  },
  {
   "cell_type": "code",
   "execution_count": 69,
   "metadata": {},
   "outputs": [],
   "source": [
    "def softmax(x):\n",
    "#     print(x)\n",
    "    is_nan(x, 'softmax.forward - x')\n",
    "    x = x.T - np.max(x, axis=1)\n",
    "    is_nan(x, 'softmax.forward - x-=max(x)')\n",
    "    y = (np.exp(x) / np.sum(np.exp(x),axis=0)).T\n",
    "    is_nan(y, 'softmax.forward - y')\n",
    "    return y"
   ]
  },
  {
   "cell_type": "markdown",
   "metadata": {},
   "source": [
    "### Negative Log Likelihood\n",
    "\n",
    "- Y* - жинхэнэ ангилал\n",
    "- Y - бодсон ангилал\n",
    "- n - сургалтын өгөгдлийн тоо\n",
    "\n",
    "#### Forward\n",
    "\n",
    "\\begin{equation*}\n",
    "L = - \\sum_{n} \\sum_{i} Y_{ni}^* log(Y_{ni})\n",
    "\\end{equation*}\n",
    "\n",
    "#### Backward\n",
    "\n",
    "\\begin{equation*}\n",
    "\\frac{\\partial L}{\\partial z_i} = Y_i - Y_{i}^*\n",
    "\\end{equation*}"
   ]
  },
  {
   "cell_type": "code",
   "execution_count": 58,
   "metadata": {},
   "outputs": [],
   "source": [
    "def nll(P, Y, derivative=False):\n",
    "    is_nan(P, 'nll - P')\n",
    "    is_nan(Y, 'nll - Y')\n",
    "    P = np.array(P)\n",
    "    Y = np.array(Y)\n",
    "    if derivative:\n",
    "        return P - Y\n",
    "    else:\n",
    "#         print('[0 -- 10]')\n",
    "#         print(P[0:10])\n",
    "#         print('[100 -- 110]')\n",
    "#         print(P[100:110])\n",
    "        l = np.log(P) * Y\n",
    "        is_nan(l, 'nll.forward - l')\n",
    "        return -np.mean(l)"
   ]
  },
  {
   "cell_type": "markdown",
   "metadata": {},
   "source": [
    "## Neural Network"
   ]
  },
  {
   "cell_type": "code",
   "execution_count": 112,
   "metadata": {},
   "outputs": [],
   "source": [
    "class NN:\n",
    "    def __init__(self, classes, layer_neuron_counts):\n",
    "        # Давхарга бүрийн нейроны тоо (жишээ нь [784, 64, 10])\n",
    "        self.layer_neuron_counts = layer_neuron_counts\n",
    "        # Ангилалууд\n",
    "        self.classes = classes\n",
    "        # Weight & Bias\n",
    "        self.weights = []\n",
    "        self.biases = []\n",
    "        # Activation функц ашиглаагүй үеийн утгуудыг хадгалана\n",
    "        self.layers = []\n",
    "        # Activation функц ашиглаад гарсан утгуудыг хадгалана\n",
    "        self.layers_activated = []\n",
    "        # Loss утгуудыг хадгалах\n",
    "        self.loss = []\n",
    "\n",
    "        # Weight болон bias-уудыг санамсаргүйгээр үүсгэх\n",
    "        self.initialize_parameters()\n",
    "\n",
    "    def initialize_parameters(self):\n",
    "        for i in range(1, len(self.layer_neuron_counts)):\n",
    "            prev_layer_size = self.layer_neuron_counts[i - 1]\n",
    "            next_layer_size = self.layer_neuron_counts[i]\n",
    "            self.weights.append(np.random.randn(prev_layer_size, next_layer_size) * 0.1)\n",
    "            self.biases.append(np.random.randn(next_layer_size) * 0.1)\n",
    "\n",
    "    def calculate_layer(self, i, activation='relu'):\n",
    "        is_nan(self.layers_activated[i], 'calculate_layer - x')\n",
    "        # Activation функц ашиглахаас өмнөх утга (H = WX + b)\n",
    "        z = self.layers_activated[i] @ self.weights[i] + self.biases[i]\n",
    "        # Activation функц ашигласны дараах утга (relu эсвэл softmax)\n",
    "        a = None\n",
    "        if activation == 'relu':\n",
    "            a = relu(z)\n",
    "        elif activation == 'softmax':\n",
    "            a = softmax(z)\n",
    "        return z, a\n",
    "\n",
    "    def forward(self, x):\n",
    "        self.layers = [x]\n",
    "        self.layers_activated = [x]\n",
    "        for i in range(len(self.layer_neuron_counts) - 1):\n",
    "            # Activation функц ашиглахаас өмнөх утга (H = WX + b)\n",
    "            z = None\n",
    "            # Activation функц ашигласны дараах утга (relu(H) эсвэл softmax(H))\n",
    "            a = None\n",
    "            if i == len(self.layer_neuron_counts) - 2:\n",
    "                z, a = self.calculate_layer(i, 'softmax')\n",
    "            else:\n",
    "                z, a = self.calculate_layer(i, 'relu')\n",
    "            self.layers.append(z)\n",
    "            self.layers_activated.append(a)\n",
    "            is_nan(self.layers[len(self.layers) - 1],\n",
    "                   'forward-' + str(i) + ' - self.layers[' + str(len(self.layers) - 1) + ']')\n",
    "            is_nan(self.layers_activated[len(self.layers_activated) - 1],\n",
    "                   'forward-' + str(i) + ' - self.layers_activated[' + str(len(self.layers) - 1) + ']')\n",
    "        return self.layers_activated[-1]\n",
    "\n",
    "    def backward(self, prediction, target):\n",
    "        dW = []\n",
    "        dB = []\n",
    "        # ---\n",
    "        d = [nll(prediction, target, derivative=True)]\n",
    "        m = len(d)\n",
    "        is_nan(d, 'sgd - d[0]')\n",
    "        dW.append(np.transpose(self.layers_activated[1]) @ d[0])\n",
    "        is_nan(dW, 'sgd - dW[0]')\n",
    "        dB.append(np.sum(d[0], axis=0))\n",
    "        is_nan(dB, 'sgd - db[0]')\n",
    "        # ---\n",
    "        d.append(np.multiply(d[0] @ np.transpose(self.weights[1]), relu(self.layers_activated[1], True)))\n",
    "        is_nan(d, 'sgd - d[1]')\n",
    "        dW.append(np.transpose(self.layers_activated[0]) @ d[1])\n",
    "        is_nan(dW, 'sgd - dW[1]')\n",
    "        dB.append(np.sum(d[1], axis=0))\n",
    "        is_nan(dB, 'sgd - db[1]')\n",
    "        dW.reverse()\n",
    "        dB.reverse()\n",
    "        return np.multiply(1/m, dW), np.multiply(1/m, dB)\n",
    "\n",
    "    def train(self, train_x, train_y, epoch, batch_size, learning_rate):\n",
    "        index = np.arange(train_x.shape[0])\n",
    "        # Epoch\n",
    "        for e in range(1, epoch + 1):\n",
    "            print('Epoch: ' + str(e) + '/' + str(epoch))\n",
    "            batch_count = round(len(train_y) / batch_size)\n",
    "            np.random.shuffle(index)\n",
    "            epoch_loss = []\n",
    "            # Batch\n",
    "            for b in range(0, batch_count):\n",
    "                # Batch болгон хуваах\n",
    "                l = b * batch_size\n",
    "                r = l + batch_size\n",
    "                batch_x = [train_x[i] for i in index[l:r]]\n",
    "                batch_y = [train_y[i] for i in index[l:r]]\n",
    "                # Batch-г боловсруулах\n",
    "                dW, dB, loss = self.batch_process(batch_x, batch_y)\n",
    "                # Batch болгоны loss-г хадгалах\n",
    "                epoch_loss.append(loss)\n",
    "                self.loss.append(loss)\n",
    "                # Параметруудыг шинэчлэх\n",
    "                self.update_parameters(dW, dB, learning_rate)\n",
    "\n",
    "                helper.print_progress(b + 1, batch_count, loss=np.mean(epoch_loss))\n",
    "            print('')\n",
    "\n",
    "    def batch_process(self, train_x, train_y):\n",
    "        is_nan(self.weights, 'batch_process - self.weights')\n",
    "        is_nan(self.biases, 'batch_process - self.biases')\n",
    "        # Forward propagation\n",
    "        predicted_y = self.forward(train_x)\n",
    "        is_nan(predicted_y, 'batch_process - predicted_y')\n",
    "        # Loss тооцох\n",
    "        loss = nll(predicted_y, train_y)\n",
    "        is_nan(loss, 'batch_process - loss')\n",
    "        # Backward propagation\n",
    "        dW, dB = self.backward(predicted_y, train_y)\n",
    "        return dW, dB, loss\n",
    "\n",
    "    def update_parameters(self, dW, dB, learning_rate):\n",
    "#         [print(i) for i in dW]\n",
    "        # Update weights\n",
    "        self.weights = np.subtract(self.weights, np.multiply(learning_rate, dW))\n",
    "        is_nan(self.weights, 'batch_process - self.weights - dW')\n",
    "        # Update biases\n",
    "        self.biases = np.subtract(self.biases, np.multiply(learning_rate, dB))\n",
    "        is_nan(self.biases, 'batch_process - self.biases - db')\n"
   ]
  },
  {
   "cell_type": "code",
   "execution_count": 113,
   "metadata": {},
   "outputs": [
    {
     "name": "stdout",
     "output_type": "stream",
     "text": [
      "Epoch: 1/5\n",
      "[============================================================] 100.0% 400/400 loss: 0.04670504348248124\n",
      "Epoch: 2/5\n",
      "[============================================================] 100.0% 400/400 loss: 0.02605843771651462\n",
      "Epoch: 3/5\n",
      "[============================================================] 100.0% 400/400 loss: 0.024504706381365857\n",
      "Epoch: 4/5\n",
      "[============================================================] 100.0% 400/400 loss: 0.02449502141601416\n",
      "Epoch: 5/5\n",
      "[============================================================] 100.0% 400/400 loss: 0.024897315345994108\n"
     ]
    }
   ],
   "source": [
    "classes = [0, 1, 2, 3, 4, 5, 6, 7, 8, 9]\n",
    "nn = NN(classes, [len(train_datas_norm[0]), 300, len(classes)])\n",
    "nn.train(train_datas_norm, train_y, 5, 150, 0.001)\n"
   ]
  },
  {
   "cell_type": "code",
   "execution_count": 115,
   "metadata": {},
   "outputs": [
    {
     "data": {
      "text/plain": [
       "[<matplotlib.lines.Line2D at 0x7f8980ef3cf8>]"
      ]
     },
     "execution_count": 115,
     "metadata": {},
     "output_type": "execute_result"
    },
    {
     "data": {
      "image/png": "[encoded data removed]",
      "text/plain": [
       "<Figure size 432x288 with 1 Axes>"
      ]
     },
     "metadata": {
      "needs_background": "light"
     },
     "output_type": "display_data"
    }
   ],
   "source": [
    "plt.plot(nn.loss)"
   ]
  },
  {
   "cell_type": "markdown",
   "metadata": {},
   "source": [
    "---"
   ]
  },
  {
   "cell_type": "code",
   "execution_count": null,
   "metadata": {},
   "outputs": [],
   "source": [
    "plt.hist(nn.layers_activated[2])"
   ]
  },
  {
   "cell_type": "code",
   "execution_count": null,
   "metadata": {},
   "outputs": [],
   "source": [
    "res = nn.forward([test_images_norm[4]])\n",
    "ans = helper.one_hot_encoding(nn.classes, [test_labels[4]])\n",
    "print(res, np.sum(res))\n",
    "print(NLL.forward(res, ans))\n",
    "print(ans)\n",
    "print(test_labels[4])"
   ]
  },
  {
   "cell_type": "code",
   "execution_count": null,
   "metadata": {},
   "outputs": [],
   "source": [
    "# for i, d in enumerate(zip(training_images[0], training_images[1], training_images[2])):\n",
    "#     print(i, d)\n",
    "print(training_images[0][181])\n",
    "print(training_images[1][181])\n",
    "print(training_images[2][181])\n",
    "print(nn.weights[0][181][14])"
   ]
  },
  {
   "cell_type": "code",
   "execution_count": null,
   "metadata": {},
   "outputs": [],
   "source": [
    "epsilon = 0.00001\n",
    "\n",
    "predicted_labels = nn.forward(training_images[0:3][:])\n",
    "true_labels = helper.label2vector(classes, [training_labels[0]])\n",
    "print(np.multiply(true_labels, predicted_labels))\n",
    "loss = NLL.forward(predicted_labels, true_labels)\n",
    "print('loss: ' + str(loss))\n",
    "dW, db = sgd(nn.weights, nn.biases, nn.layers, nn.layers_activated, predicted_labels, true_labels)\n",
    "dw = dW[0][181][14]\n",
    "print('dw: ' + str(dw))\n",
    "\n",
    "nn.weights[0][181][14] -= (epsilon/2)\n",
    "\n",
    "predicted_labels = nn.forward(training_images[0:3][:])\n",
    "true_labels = helper.label2vector(classes, [training_labels[0]])\n",
    "print(np.multiply(true_labels, predicted_labels))\n",
    "loss1 = NLL.forward(predicted_labels, true_labels)\n",
    "print('loss1: ' + str(loss1))\n",
    "dW, db = nn.backward(predicted_labels, true_labels)\n",
    "dw1 = dW[0][181][14]\n",
    "print('dw1: ' + str(dw1))\n",
    "\n",
    "nn.weights[0][181][14] += epsilon\n",
    "\n",
    "predicted_labels = nn.forward(training_images[0:3][:])\n",
    "true_labels = helper.label2vector(classes, [training_labels[0]])\n",
    "print(np.multiply(true_labels, predicted_labels))\n",
    "loss2 = NLL.forward(predicted_labels, true_labels)\n",
    "print('loss2: ' + str(loss2))\n",
    "dW, db = nn.backward(predicted_labels, true_labels)\n",
    "dw2 = dW[0][181][14]\n",
    "print('dw2: ' + str(dw2))\n",
    "\n",
    "print(dw - ((loss2-loss1)/epsilon))"
   ]
  },
  {
   "cell_type": "code",
   "execution_count": null,
   "metadata": {},
   "outputs": [],
   "source": [
    "ll = [1000, 0.3, 2, 0.5, 0.9, 1.1, 1.5, 0.5, 0.01, 0.09]\n",
    "\n",
    "# print(softmax.forward(ll))\n",
    "print(LogSoftmax.forward(ll))"
   ]
  },
  {
   "cell_type": "code",
   "execution_count": null,
   "metadata": {},
   "outputs": [],
   "source": [
    "print(np.min(training_images))\n",
    "print(np.max(training_images))\n",
    "print(np.min(test_images))\n",
    "print(np.max(test_images))"
   ]
  }
 ],
 "metadata": {
  "kernelspec": {
   "display_name": "Python 3",
   "language": "python",
   "name": "python3"
  },
  "language_info": {
   "codemirror_mode": {
    "name": "ipython",
    "version": 3
   },
   "file_extension": ".py",
   "mimetype": "text/x-python",
   "name": "python",
   "nbconvert_exporter": "python",
   "pygments_lexer": "ipython3",
   "version": "3.7.0"
  }
 },
 "nbformat": 4,
 "nbformat_minor": 1
}
