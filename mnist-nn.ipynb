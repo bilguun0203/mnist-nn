{
 "cells": [
  {
   "cell_type": "markdown",
   "metadata": {
    "collapsed": true
   },
   "source": [
    "# Neural Network - MNIST"
   ]
  },
  {
   "cell_type": "markdown",
   "metadata": {},
   "source": [
    "## Өгөгдөл унших"
   ]
  },
  {
   "cell_type": "code",
   "execution_count": 1,
   "metadata": {},
   "outputs": [],
   "source": [
    "import numpy as np\n",
    "import mnist\n",
    "import helper\n",
    "import math\n",
    "import random\n",
    "from matplotlib import pyplot as plt\n",
    "% matplotlib inline\n",
    "\n",
    "training_images, training_labels, test_images, test_labels = mnist.load()\n",
    "\n",
    "def nanCheck(x, msg):\n",
    "#     print(type(x))\n",
    "    if type(x) is list or type(x) is np.ndarray:\n",
    "#         print('--1if')\n",
    "#         print(type(x[0]))\n",
    "        if type(x[0]) is list:\n",
    "#             print('----2if')\n",
    "            for i, t in enumerate(x):\n",
    "#                 print('------for')\n",
    "                if np.isnan(np.array(t, dtype=np.float64)).any():\n",
    "                    print(x)\n",
    "                    raise ValueError('NaN ' + str(i) + ': ' + msg)\n",
    "            return None\n",
    "        if type(x[0]) is np.ndarray:\n",
    "#             print('----3if')\n",
    "            for i, t in enumerate(x):\n",
    "#                 print('------for')\n",
    "                if np.isnan(t).any():\n",
    "                    print(x)\n",
    "                    raise ValueError('NaN ' + str(i) + ': ' + msg)\n",
    "            return None\n",
    "#     print('--out')\n",
    "#     if type(x) is np.ndarray:\n",
    "#         if np.isnan(x).any():\n",
    "#             raise ValueError('NaN ' + str(i) + ': ' + msg)\n",
    "#             return None\n",
    "#     else:\n",
    "    try:\n",
    "        if np.isnan(np.array(x, dtype=np.float64)).any():\n",
    "            print(x)\n",
    "            raise ValueError('NaN: ' + msg)\n",
    "    except:\n",
    "        print(x)\n",
    "        raise ValueError('NaN: ' + msg)\n"
   ]
  },
  {
   "cell_type": "markdown",
   "metadata": {},
   "source": [
    "## Тооцоолол хийхэд хэрэг болох функцууд"
   ]
  },
  {
   "cell_type": "markdown",
   "metadata": {},
   "source": [
    "### RELU\n",
    "\n",
    "\\begin{equation*}\n",
    "relu(y_i) = \\begin{cases} 0, & y_i < 0 \\\\ y_i, & y_i\\geq 0 \\end{cases}\n",
    "\\end{equation*}"
   ]
  },
  {
   "cell_type": "code",
   "execution_count": 2,
   "metadata": {},
   "outputs": [],
   "source": [
    "def relu(y):\n",
    "    nanCheck(y, 'relu - y')\n",
    "    y[y <= 0] = 0\n",
    "    nanCheck(y, 'relu - relu(y)')\n",
    "    return y"
   ]
  },
  {
   "cell_type": "markdown",
   "metadata": {},
   "source": [
    "### Softmax\n",
    "\n",
    "\\begin{equation*}\n",
    "softmax(y_i) = \\frac{e^{y_i}}{\\sum_{j}e_j}\n",
    "\\end{equation*}\n"
   ]
  },
  {
   "cell_type": "code",
   "execution_count": 3,
   "metadata": {},
   "outputs": [],
   "source": [
    "def softmax(y):\n",
    "#     print(y)\n",
    "    nanCheck(y, 'softmax - y')\n",
    "    e = [np.exp(i) for i in y]\n",
    "    nanCheck(e, 'softmax - e')\n",
    "    sum_of_e = sum(e)\n",
    "    nanCheck(sum_of_e, 'softmax - sum_of_e')\n",
    "    res = [i / sum_of_e for i in e]\n",
    "    nanCheck(res, 'softmax - res')\n",
    "    return res"
   ]
  },
  {
   "cell_type": "markdown",
   "metadata": {},
   "source": [
    "### Нейронуудын утгыг тооцох\n",
    "\n",
    "- W - тухайн давхаргын weight\n",
    "- X - өмнөх нейронуудын утга\n",
    "- b - тухайн давхаргын bias\n",
    "\\begin{equation*}\n",
    "W X + b\n",
    "\\end{equation*}"
   ]
  },
  {
   "cell_type": "code",
   "execution_count": 4,
   "metadata": {},
   "outputs": [],
   "source": [
    "def calculate_neuron(x, weight, bias):\n",
    "    nanCheck(x, 'calculate_neuron - x')\n",
    "    nanCheck(weight, 'calculate_neuron - weight')\n",
    "    nanCheck(bias, 'calculate_neuron - bias')\n",
    "    return x @ weight + bias"
   ]
  },
  {
   "cell_type": "markdown",
   "metadata": {},
   "source": [
    "### Negative Log Likelihood\n",
    "Loss бодоход ашиглана.\n",
    "- Y* - жинхэнэ ангилал\n",
    "- Y - бодсон ангилал\n",
    "- n - сургалтын өгөгдлийн тоо\n",
    "\\begin{equation*}\n",
    "- \\sum_{n} \\sum_{i} Y_{ni}^* log(Y_{ni})\n",
    "\\end{equation*}"
   ]
  },
  {
   "cell_type": "code",
   "execution_count": 5,
   "metadata": {},
   "outputs": [],
   "source": [
    "def nll(y, Y):\n",
    "    sum = 0\n",
    "    for (yi, Yi) in zip(y, Y):\n",
    "#         print(yi, Yi)\n",
    "        l = np.multiply(np.log(yi), Yi)\n",
    "#         print(np.log(yi))\n",
    "        nanCheck(l, 'NLL - Log')\n",
    "        sum = sum + np.sum(l)\n",
    "        nanCheck(l, 'NLL - Sum')\n",
    "    return -(sum/len(y))"
   ]
  },
  {
   "cell_type": "markdown",
   "metadata": {},
   "source": [
    "### Gradient Descent"
   ]
  },
  {
   "cell_type": "code",
   "execution_count": 138,
   "metadata": {},
   "outputs": [],
   "source": [
    "def sgd(weights, biases, neurons, neurons_activated, prediction, target):\n",
    "    dW = []\n",
    "    db = []\n",
    "    d = [np.subtract(prediction, target)]\n",
    "#     print('------Z------')\n",
    "#     print(prediction)\n",
    "#     print(target)\n",
    "#     print(dz)\n",
    "#     print('------ZZZ-----')\n",
    "    m = len(d)\n",
    "    nanCheck(d, 'sgd - dz[0]')\n",
    "    dW.append(np.multiply(1/m, (np.transpose(neurons[1]) @ d[0])))\n",
    "    nanCheck(dW, 'sgd - dW[0]')\n",
    "    db.append(np.multiply(1/m, np.sum(d[0], axis=0)))\n",
    "    nanCheck(db, 'sgd - db[0]')\n",
    "    d.append(np.multiply(d[0] @ np.transpose(weights[1]), np.heaviside(neurons_activated[1], 1)))\n",
    "#     print('22222222222222222222222222222222')\n",
    "#     print(dz[len(dz)-1].shape)\n",
    "#     print(neurons[0])\n",
    "#     print((np.transpose(neurons[0]) @ dz[len(dz)-1]))\n",
    "#     print('33333333333333333333333333333333')\n",
    "    nanCheck(d, 'sgd - d')\n",
    "    dW.append(np.multiply(1/m, (np.transpose(neurons[0]) @ d[1])))\n",
    "    nanCheck(dW, 'sgd - dW[1]')\n",
    "    db.append(np.multiply(1/m, np.sum(d[1], axis=0)))\n",
    "    nanCheck(db, 'sgd - db[1]')\n",
    "#     print(dz[0].shape, dz[0])\n",
    "#     print(db[0].shape, db[0])\n",
    "#     print(dz[1].shape, dz[1])\n",
    "#     print(db[1].shape, db[1])\n",
    "#     print('-------dW--------')\n",
    "#     print(dW)\n",
    "#     print('-------db--------')\n",
    "#     print(db)\n",
    "#     print('-------dd--------')\n",
    "    # for i in range(len(weights)):\n",
    "    #     weight = temp[len(temp)-1] @ np.transpose(neurons[-i-1])\n",
    "    #     bias = biases[-i]\n",
    "    #     dW.append(weight)\n",
    "    #     db.append(bias)\n",
    "    #     temp.append(np.transpose(weights[-1]) @ temp[len(temp)-1])\n",
    "    dW.reverse()\n",
    "    db.reverse()\n",
    "    dW += np.multiply(weights, 0.001)\n",
    "    db += np.multiply(biases, 0.001)\n",
    "    return dW, db"
   ]
  },
  {
   "cell_type": "markdown",
   "metadata": {},
   "source": [
    "## Neural Network класс"
   ]
  },
  {
   "cell_type": "code",
   "execution_count": 146,
   "metadata": {},
   "outputs": [],
   "source": [
    "class NN:\n",
    "    def __init__(self, classes, layer_neuron_counts=None):\n",
    "        self.layer_neuron_counts = layer_neuron_counts\n",
    "        # Ангилалууд\n",
    "        self.classes = classes\n",
    "        # Weight & Bias\n",
    "        self.weights = []\n",
    "        self.biases = []\n",
    "        # Activation функц ашиглаагүй үеийн утгуудыг хадгалана\n",
    "        self.neurons = []\n",
    "        # Activation функц ашиглаад гарсан утгуудыг хадгалана\n",
    "        self.neurons_activated = []\n",
    "        # Loss утгуудыг хадгалах\n",
    "        self.losses = []\n",
    "\n",
    "        # Weight болон bias-уудыг санамсаргүйгээр үүсгэх\n",
    "        if layer_neuron_counts is not None:\n",
    "            for i in range(1, len(self.layer_neuron_counts)):\n",
    "                prev_layer_size = self.layer_neuron_counts[i - 1]\n",
    "                next_layer_size = self.layer_neuron_counts[i]\n",
    "                self.weights.append(np.random.randn(prev_layer_size, next_layer_size) * 0.1)\n",
    "                self.biases.append(np.random.randn(next_layer_size) * 0.1)\n",
    "\n",
    "    def train(self, training_images, training_labels, epoch, batch_size, learning_rate):\n",
    "        combined = list(zip(training_images, training_labels))\n",
    "        random.shuffle(combined)\n",
    "        training_images[:], training_labels[:] = zip(*combined)\n",
    "        for e in range(1, epoch + 1):\n",
    "            print('Epoch: ' + str(e))\n",
    "            batch_count = round(len(training_images) / batch_size)\n",
    "            losses = []\n",
    "            for b in range(0, batch_count):\n",
    "#                 print('-- Batch: ' + str(b))\n",
    "#                 print('----start----')\n",
    "#                 print(self.weights)\n",
    "#                 print(self.biases)\n",
    "#                 print('-------------')\n",
    "                # print(b * batch_size, (b + 1) * batch_size)\n",
    "                minibatch_data = training_images[b * batch_size:(b + 1) * batch_size][:]\n",
    "#                 print(minibatch_data.shape)\n",
    "                # print(training_images.shape)\n",
    "                # print(minibatch_data.shape)\n",
    "                minibatch_label = training_labels[b * batch_size:(b + 1) * batch_size]\n",
    "                # print(training_labels.shape)\n",
    "                # print(minibatch_label.shape)\n",
    "                # print('---')\n",
    "                loss = self.batch_process(minibatch_data, minibatch_label, learning_rate)\n",
    "#                 print('-----end-----')\n",
    "#                 print(self.weights)\n",
    "#                 print(self.biases)\n",
    "#                 print('-------------')\n",
    "                self.losses.append(loss)\n",
    "                helper.print_progress(b + 1, batch_count)\n",
    "#             self.losses.append(sum(losses))\n",
    "            print('')\n",
    "\n",
    "    def forward(self, x):\n",
    "        self.neurons = [x]\n",
    "        self.neurons_activated = [x]\n",
    "#         print('')\n",
    "#         print('###################')\n",
    "#         [print(str(i) + ', ') for i in self.neurons[0]]\n",
    "#         print('###################')\n",
    "#         print('--------------------------------')\n",
    "#         print(self.weights)\n",
    "#         print('~~~~~~~~~~~~~~~~~~~~~~~~~~~~~~~~')\n",
    "#         print(self.biases)\n",
    "#         print('================================')\n",
    "        for i, (weights, biases) in enumerate(zip(self.weights, self.biases)):\n",
    "            self.neurons.append(calculate_neuron(relu(self.neurons_activated[len(self.neurons_activated)-1]), weights, biases))\n",
    "            nanCheck(self.neurons, 'forward - self.neurons['+ str(i+1) +']')\n",
    "            if i == len(self.weights) - 1:\n",
    "                self.neurons_activated.append(softmax(self.neurons[len(self.neurons)-1]))\n",
    "            else:\n",
    "                self.neurons_activated.append(relu(self.neurons[len(self.neurons)-1]))\n",
    "            nanCheck(self.neurons_activated, 'forward - self.neurons_activated['+ str(i+1) +']')\n",
    "#         print('NEURONS')\n",
    "#         print(np.array(self.neurons[0]).shape, np.array(self.neurons[1]).shape)\n",
    "#         print(self.neurons)\n",
    "#         print('ACTIVATED')\n",
    "#         print(np.array(self.neurons_activated[0]).shape, np.array(self.neurons_activated[1]).shape)\n",
    "#         print(self.neurons_activated)\n",
    "#         print('neurons')\n",
    "        return self.neurons_activated[len(self.neurons_activated) -1]\n",
    "\n",
    "    def batch_process(self, train_datas, training_labels, learning_rate):\n",
    "        nanCheck(self.weights, 'batch_process - self.weights')\n",
    "        nanCheck(self.biases, 'batch_process - self.biases')\n",
    "        predicted_labels = self.forward(train_datas)\n",
    "        nanCheck(predicted_labels, 'batch_process - predicted_labels')\n",
    "        true_labels = helper.label2vector(self.classes, training_labels)\n",
    "        loss = nll(predicted_labels, true_labels)\n",
    "        nanCheck(loss, 'batch_process - loss')\n",
    "        dW, db = sgd(self.weights, self.biases, self.neurons, self.neurons_activated, predicted_labels, true_labels)\n",
    "        nanCheck(dW, 'batch_process - dW')\n",
    "        nanCheck(db, 'batch_process - db')\n",
    "        # print(np.array(dW).shape)\n",
    "#         self.weights[0] = np.subtract(self.weights[0], dW[0])\n",
    "#         self.biases[0] = np.subtract(self.biases[0], db[0])\n",
    "#         self.weights[1] = np.subtract(self.weights[1], dW[1])\n",
    "#         self.biases[1] = np.subtract(self.biases[1], db[1])\n",
    "#         print(self.weights[0])\n",
    "#         print(self.weights[1])\n",
    "#         print(\"weights1\")\n",
    "#         print(self.weights[0].shape)\n",
    "#         print(self.weights[1].shape)\n",
    "#         print(dW)\n",
    "#         print('!!!!!!!!!!!!!!!!!!!!!!!!!!!!!!!!!!!!!!')\n",
    "# #         print(dW)\n",
    "# #         [print(dw) for dw in dW[0]]\n",
    "#         print('######################################')\n",
    "#         [print(weights) for weights in self.weights]\n",
    "        temp = self.weights\n",
    "        self.weights = np.subtract(self.weights, [[d*learning_rate for d in dw] for dw in dW])\n",
    "#         print('$$$$$$$$$$$$$$$$$$$$$$$$$$$$$$$$$$$$$$')\n",
    "#         print(self.weights == temp)\n",
    "#         [print(weights) for weights in self.weights]\n",
    "#         print('%%%%%%%%%%%%%%%%%%%%%%%%%%%%%%%%%%%%%%')\n",
    "        nanCheck(self.weights, 'batch_process - self.weights - dW')\n",
    "#         print(\"weights2\")\n",
    "#         print(self.weights[0].shape)\n",
    "#         print(self.weights[1].shape)\n",
    "#         print('biases1')\n",
    "#         print(self.biases)\n",
    "        self.biases = np.subtract(self.biases, [[d*learning_rate for d in dB] for dB in db])\n",
    "        nanCheck(self.biases, 'batch_process - self.biases + db')\n",
    "#         print('biases2')\n",
    "#         print(self.biases)\n",
    "#         print(db)\n",
    "#         print('-----------')\n",
    "        return loss\n"
   ]
  },
  {
   "cell_type": "code",
   "execution_count": 150,
   "metadata": {},
   "outputs": [],
   "source": [
    "classes = [0, 1, 2, 3, 4, 5, 6, 7, 8, 9]\n",
    "nn = NN(classes, [len(training_images[0]), 32, len(classes)])\n",
    "# nn.train(training_images, training_labels, 10, 128, 0.001)\n",
    "# res = nn.forward(training_images[0])\n",
    "# print(res)\n",
    "# label = np.zeros(10)\n",
    "# label[training_labels[0]] = 1\n",
    "# nll(res, label)\n"
   ]
  },
  {
   "cell_type": "code",
   "execution_count": 115,
   "metadata": {},
   "outputs": [
    {
     "name": "stdout",
     "output_type": "stream",
     "text": [
      "0.8705882352941177\n",
      "0.13333333333333333\n",
      "0.16862745098039217\n",
      "-0.012373778003703892\n",
      "[[0. 0. 0. ... 0. 0. 0.]\n",
      " [0. 0. 0. ... 0. 0. 0.]\n",
      " [0. 0. 0. ... 0. 0. 0.]]\n"
     ]
    }
   ],
   "source": [
    "# for i, d in enumerate(zip(training_images[0], training_images[1], training_images[2])):\n",
    "#     print(i, d)\n",
    "print(training_images[0][181])\n",
    "print(training_images[1][181])\n",
    "print(training_images[2][181])\n",
    "print(nn.weights[0][181][14])"
   ]
  },
  {
   "cell_type": "code",
   "execution_count": 151,
   "metadata": {},
   "outputs": [
    {
     "name": "stdout",
     "output_type": "stream",
     "text": [
      "[[0.         0.32441012 0.         0.         0.         0.\n",
      "  0.         0.         0.         0.        ]\n",
      " [0.         0.33008657 0.         0.         0.         0.\n",
      "  0.         0.         0.         0.        ]\n",
      " [0.         0.34550331 0.         0.         0.         0.\n",
      "  0.         0.         0.         0.        ]]\n",
      "loss: 0.3752489223327405\n",
      "dw: -0.11207858902017656\n",
      "[[0.         0.32441005 0.         0.         0.         0.\n",
      "  0.         0.         0.         0.        ]\n",
      " [0.         0.3300866  0.         0.         0.         0.\n",
      "  0.         0.         0.         0.        ]\n",
      " [0.         0.34550334 0.         0.         0.         0.\n",
      "  0.         0.         0.         0.        ]]\n",
      "loss1: 0.37524898809009377\n",
      "dw1: -0.11207859887902491\n",
      "[[0.         0.32441018 0.         0.         0.         0.\n",
      "  0.         0.         0.         0.        ]\n",
      " [0.         0.33008654 0.         0.         0.         0.\n",
      "  0.         0.         0.         0.        ]\n",
      " [0.         0.34550328 0.         0.         0.         0.\n",
      "  0.         0.         0.         0.        ]]\n",
      "loss2: 0.37524885657539353\n",
      "dw2: -0.11207857916132836\n",
      "-0.0989271189960568\n"
     ]
    }
   ],
   "source": [
    "epsilon = 0.00001\n",
    "\n",
    "predicted_labels = nn.forward(training_images[0:3][:])\n",
    "true_labels = helper.label2vector(classes, [training_labels[0]])\n",
    "print(np.multiply(true_labels, predicted_labels))\n",
    "loss = nll(predicted_labels, true_labels)\n",
    "print('loss: ' + str(loss))\n",
    "dW, db = sgd(nn.weights, nn.biases, nn.neurons, nn.neurons_activated, predicted_labels, true_labels)\n",
    "dw = dW[0][181][14]\n",
    "print('dw: ' + str(dw))\n",
    "\n",
    "nn.weights[0][181][14] -= (epsilon/2)\n",
    "\n",
    "predicted_labels = nn.forward(training_images[0:3][:])\n",
    "true_labels = helper.label2vector(classes, [training_labels[0]])\n",
    "print(np.multiply(true_labels, predicted_labels))\n",
    "loss1 = nll(predicted_labels, true_labels)\n",
    "print('loss1: ' + str(loss1))\n",
    "dW, db = sgd(nn.weights, nn.biases, nn.neurons, nn.neurons_activated, predicted_labels, true_labels)\n",
    "dw1 = dW[0][181][14]\n",
    "print('dw1: ' + str(dw1))\n",
    "\n",
    "nn.weights[0][181][14] += (epsilon)\n",
    "\n",
    "predicted_labels = nn.forward(training_images[0:3][:])\n",
    "true_labels = helper.label2vector(classes, [training_labels[0]])\n",
    "print(np.multiply(true_labels, predicted_labels))\n",
    "loss2 = nll(predicted_labels, true_labels)\n",
    "print('loss2: ' + str(loss2))\n",
    "dW, db = sgd(nn.weights, nn.biases, nn.neurons, nn.neurons_activated, predicted_labels, true_labels)\n",
    "dw2 = dW[0][181][14]\n",
    "print('dw2: ' + str(dw2))\n",
    "\n",
    "print(dw - ((loss2-loss1)/epsilon))"
   ]
  },
  {
   "cell_type": "code",
   "execution_count": 130,
   "metadata": {},
   "outputs": [
    {
     "name": "stdout",
     "output_type": "stream",
     "text": [
      "[0.9999999979388119, 2.0611536181901326e-09, 3.442477101374384e-14, 3.1391327855776864e-17]\n",
      "[[ 1.67033067e-05 -2.06108477e-09 -3.44236211e-14 -3.13902792e-17\n",
      "  -3.13902792e-17 -1.67011428e-05 -9.35731036e-14 -5.74933019e-19\n",
      "  -1.02615368e-10 -2.11506038e-19]\n",
      " [-2.06108477e-09  2.06111919e-09 -7.09523712e-23 -6.47001878e-26\n",
      "  -6.47001878e-26 -3.44236211e-14 -1.92868541e-22 -1.18502527e-27\n",
      "  -2.11506038e-19 -4.35946436e-28]\n",
      " [-3.44236211e-14 -7.09523712e-23  3.44241961e-14 -1.08060318e-30\n",
      "  -1.08060318e-30 -5.74933019e-19 -3.22123267e-27 -1.97919376e-32\n",
      "  -3.53251056e-24 -7.28104693e-33]\n",
      " [-3.13902792e-17 -6.47001878e-26 -1.08060318e-30  3.13908036e-17\n",
      "  -9.85382549e-34 -5.24271051e-22 -2.93738398e-30 -1.80479109e-35\n",
      "  -3.22123267e-27 -6.63945539e-36]\n",
      " [-3.13902792e-17 -6.47001878e-26 -1.08060318e-30 -9.85382549e-34\n",
      "   3.13908036e-17 -5.24271051e-22 -2.93738398e-30 -1.80479109e-35\n",
      "  -3.22123267e-27 -6.63945539e-36]\n",
      " [-1.67011428e-05 -3.44236211e-14 -5.74933019e-19 -5.24271051e-22\n",
      "  -5.24271051e-22  1.67011429e-05 -1.56282998e-18 -9.60235926e-24\n",
      "  -1.71385118e-15 -3.53251056e-24]\n",
      " [-9.35731036e-14 -1.92868541e-22 -3.22123267e-27 -2.93738398e-30\n",
      "  -2.93738398e-30 -1.56282998e-18  9.35746666e-14 -5.38000642e-32\n",
      "  -9.60235926e-24 -1.97919376e-32]\n",
      " [-5.74933019e-19 -1.18502527e-27 -1.97919376e-32 -1.80479109e-35\n",
      "  -1.80479109e-35 -9.60235926e-24 -5.38000642e-32  5.74942623e-19\n",
      "  -5.89989344e-29 -1.21605867e-37]\n",
      " [-1.02615368e-10 -2.11506038e-19 -3.53251056e-24 -3.22123267e-27\n",
      "  -3.22123267e-27 -1.71385118e-15 -9.60235926e-24 -5.89989344e-29\n",
      "   1.02617082e-10 -2.17044950e-29]\n",
      " [-2.11506038e-19 -4.35946436e-28 -7.28104693e-33 -6.63945539e-36\n",
      "  -6.63945539e-36 -3.53251056e-24 -1.97919376e-32 -1.21605867e-37\n",
      "  -2.17044950e-29  2.11509571e-19]]\n"
     ]
    }
   ],
   "source": [
    "print(softmax([43,23,12,5]))\n",
    "print(softmax_prime(softmax([43,23,12,5,5,32,13,1,20,0])))"
   ]
  },
  {
   "cell_type": "code",
   "execution_count": 141,
   "metadata": {},
   "outputs": [
    {
     "data": {
      "text/plain": [
       "[<matplotlib.lines.Line2D at 0x7ff3d1af02b0>]"
      ]
     },
     "execution_count": 141,
     "metadata": {},
     "output_type": "execute_result"
    },
    {
     "data": {
      "image/png": "[encoded data removed]",
      "text/plain": [
       "<Figure size 432x288 with 1 Axes>"
      ]
     },
     "metadata": {
      "needs_background": "light"
     },
     "output_type": "display_data"
    }
   ],
   "source": [
    "plt.plot(nn.losses)"
   ]
  }
 ],
 "metadata": {
  "kernelspec": {
   "display_name": "Python 3",
   "language": "python",
   "name": "python3"
  },
  "language_info": {
   "codemirror_mode": {
    "name": "ipython",
    "version": 3
   },
   "file_extension": ".py",
   "mimetype": "text/x-python",
   "name": "python",
   "nbconvert_exporter": "python",
   "pygments_lexer": "ipython3",
   "version": "3.7.0"
  }
 },
 "nbformat": 4,
 "nbformat_minor": 1
}
