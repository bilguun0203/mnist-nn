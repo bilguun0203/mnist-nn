{
 "cells": [
  {
   "cell_type": "markdown",
   "metadata": {
    "collapsed": true
   },
   "source": [
    "# Neural Network - MNIST"
   ]
  },
  {
   "cell_type": "markdown",
   "metadata": {},
   "source": [
    "## Өгөгдөл унших"
   ]
  },
  {
   "cell_type": "code",
   "execution_count": 10,
   "metadata": {},
   "outputs": [],
   "source": [
    "import mnist\n",
    "\n",
    "training_images, training_labels, test_images, test_labels = mnist.load()\n"
   ]
  },
  {
   "cell_type": "markdown",
   "metadata": {},
   "source": [
    "## Neural Network класс"
   ]
  },
  {
   "cell_type": "code",
   "execution_count": 56,
   "metadata": {},
   "outputs": [],
   "source": [
    "import numpy as np\n",
    "\n",
    "\n",
    "class NN:\n",
    "    def __init__(self, layer_neuron_counts):\n",
    "        self.layer_neuron_counts = layer_neuron_counts\n",
    "        self.weights = []\n",
    "        self.biases = []\n",
    "\n",
    "        for i in range(1, len(self.layer_neuron_counts)):\n",
    "            prev_layer_size = self.layer_neuron_counts[i-1]\n",
    "            next_layer_size = self.layer_neuron_counts[i]\n",
    "            self.weights.append(np.random.random((prev_layer_size, next_layer_size)))\n",
    "            self.biases.append(np.random.random((1, next_layer_size)))\n"
   ]
  },
  {
   "cell_type": "code",
   "execution_count": null,
   "metadata": {},
   "outputs": [],
   "source": [
    "classes = [0, 1, 2, 3, 4, 5, 6, 7, 8, 9]\n",
    "nn = NN([len(training_images[0]), 16, 16, len(classes)])\n"
   ]
  }
 ],
 "metadata": {
  "kernelspec": {
   "display_name": "Python 2",
   "language": "python",
   "name": "python2"
  },
  "language_info": {
   "codemirror_mode": {
    "name": "ipython",
    "version": 2
   },
   "file_extension": ".py",
   "mimetype": "text/x-python",
   "name": "python",
   "nbconvert_exporter": "python",
   "pygments_lexer": "ipython2",
   "version": "2.7.6"
  }
 },
 "nbformat": 4,
 "nbformat_minor": 0
}
