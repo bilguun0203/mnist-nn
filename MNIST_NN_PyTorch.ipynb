{
 "cells": [
  {
   "cell_type": "markdown",
   "metadata": {},
   "source": [
    "# MNIST - NN - PyTorch"
   ]
  },
  {
   "cell_type": "markdown",
   "metadata": {},
   "source": [
    "- [Сургалтанд шаардлагатай зүйлс](#Сургалтанд-шаардлагатай-зүйлс)\n",
    "    * [Сургалтын өгөгдөл унших](#Сургалтын-өгөгдөл-унших)\n",
    "    * [Accuracy тооцоолох функц](#Accuracy-тооцоолох-функц)\n",
    "    * [Сургалт явуулах ерөнхий функц](#Сургалт-явуулах-ерөнхий-функц)\n",
    "- [Сургалт](#Сургалт)\n",
    "    * [1. Энгийн Neural Network](#1.-Энгийн-Neural-Network)\n",
    "    * [2. Энгийн Neural Network (sigmoid)](#2.-Энгийн-Neural-Network-(sigmoid))\n",
    "    * [3. Олон давхаргатай Neural Network](#3.-Олон-давхаргатай-Neural-Network)\n",
    "    * [4. Neural Network with Dropout](#4.-Neural-Network-with-Dropout)"
   ]
  },
  {
   "cell_type": "code",
   "execution_count": 1,
   "metadata": {},
   "outputs": [],
   "source": [
    "import torch\n",
    "from torch import nn\n",
    "from torch import optim\n",
    "import numpy as np\n",
    "import matplotlib.pyplot as plt\n",
    "import helper\n",
    "%matplotlib inline\n",
    "%config InlineBackend.figure_format = 'retina'"
   ]
  },
  {
   "cell_type": "markdown",
   "metadata": {},
   "source": [
    "## Сургалтанд шаардлагатай зүйлс"
   ]
  },
  {
   "cell_type": "markdown",
   "metadata": {},
   "source": [
    "### Сургалтын өгөгдөл унших"
   ]
  },
  {
   "cell_type": "code",
   "execution_count": 2,
   "metadata": {},
   "outputs": [
    {
     "name": "stdout",
     "output_type": "stream",
     "text": [
      "Сургах өгөгдөл (Training data): 48000\n",
      "Үнэлэх өгөгдөл (Validation data): 12000\n",
      "Шалгах өгөгдөл (Test data): 10000\n",
      "Batch тоо: 320\n"
     ]
    }
   ],
   "source": [
    "from torchvision import datasets, transforms\n",
    "from torch.utils.data.sampler import SubsetRandomSampler\n",
    "\n",
    "transform = transforms.Compose([transforms.ToTensor(), transforms.Normalize((0,), (1,)),])\n",
    "\n",
    "batch_size = 150\n",
    "valid_size = 0.2\n",
    "\n",
    "trainset = datasets.MNIST('.', download=False, train=True, transform=transform)\n",
    "testset = datasets.MNIST('.', download=False, train=False, transform=transform)\n",
    "\n",
    "# Training өгөгдлөөс Validation өгөгдлийг ялгаж авах\n",
    "num_train = len(trainset)\n",
    "indices = list(range(num_train))\n",
    "np.random.shuffle(indices)\n",
    "split = int(np.floor(valid_size * num_train))\n",
    "train_idx, valid_idx = indices[split:], indices[:split]\n",
    "\n",
    "train_sampler = SubsetRandomSampler(train_idx)\n",
    "valid_sampler = SubsetRandomSampler(valid_idx)\n",
    "\n",
    "# DataLoaders\n",
    "\n",
    "trainloader = torch.utils.data.DataLoader(trainset, batch_size=batch_size, sampler=train_sampler)\n",
    "validloader = torch.utils.data.DataLoader(trainset, batch_size=batch_size, sampler=valid_sampler)\n",
    "testloader = torch.utils.data.DataLoader(testset, batch_size=batch_size)\n",
    "\n",
    "batch_count = len(trainloader)\n",
    "print('Сургах өгөгдөл (Training data):', len(train_idx))\n",
    "print('Үнэлэх өгөгдөл (Validation data):', len(valid_idx))\n",
    "print('Шалгах өгөгдөл (Test data):', len(testset))\n",
    "print('Batch тоо:', batch_count)"
   ]
  },
  {
   "cell_type": "markdown",
   "metadata": {},
   "source": [
    "### Нарийвчлал тооцоолох функц"
   ]
  },
  {
   "cell_type": "code",
   "execution_count": 3,
   "metadata": {},
   "outputs": [],
   "source": [
    "def get_accuracy(predicted, target):\n",
    "    equals = predicted.max(1)[1] == target\n",
    "    return torch.mean(equals.type(torch.FloatTensor)).item()"
   ]
  },
  {
   "cell_type": "markdown",
   "metadata": {},
   "source": [
    "### Сургалт явуулах ерөнхий функц\n",
    "\n",
    "**Параметрууд**\n",
    "- `model` - сургах модель\n",
    "- `criterion` - loss функц\n",
    "- `optimizer` - optimizer\n",
    "- `epoch` - epoch тоо\n",
    "- `save_file_name` - validation loss хамгийн бага үеийн утгуудыг хадгалах файлын нэр\n",
    "\n",
    "**Буцаах утга**\n",
    "- `model` - сургасан модель\n",
    "- `train_losses` - сургалтын өгөгдлийн loss\n",
    "- `valid_losses` - үнэлгээний өгөгдлийн loss"
   ]
  },
  {
   "cell_type": "code",
   "execution_count": 4,
   "metadata": {},
   "outputs": [],
   "source": [
    "def train(model, criterion, optimizer, epoch, save_file_name='model.pt'):\n",
    "    train_losses, valid_losses = [], []\n",
    "    \n",
    "    valid_loss_min = np.Inf\n",
    "\n",
    "    for e in range(epoch):\n",
    "        batch_n = 1\n",
    "        batch_mean_loss = 0\n",
    "        batch_mean_accuracy = 0\n",
    "        print(f'Epoch: {e+1}/{epoch}')\n",
    "\n",
    "        for images, labels in trainloader:\n",
    "            optimizer.zero_grad()\n",
    "\n",
    "            log_ps = model(images)\n",
    "            loss = criterion(log_ps, labels)\n",
    "            loss.backward()\n",
    "            optimizer.step()\n",
    "\n",
    "            batch_mean_loss += loss.item()\n",
    "            batch_mean_accuracy += get_accuracy(log_ps, labels)\n",
    "\n",
    "            helper.print_progress(batch_n, batch_count, bar_len=45, loss=batch_mean_loss/batch_n, accuracy=batch_mean_accuracy*(100/batch_n))\n",
    "            batch_n += 1\n",
    "        else:\n",
    "            valid_loss = 0\n",
    "            valid_accuracy = 0\n",
    "            with torch.no_grad():\n",
    "                model.eval()\n",
    "                for images, labels in validloader:\n",
    "                    log_ps = model(images)\n",
    "                    valid_loss += criterion(log_ps, labels)\n",
    "\n",
    "                    ps = torch.exp(log_ps)\n",
    "                    valid_accuracy += get_accuracy(ps, labels)\n",
    "            model.train()\n",
    "            \n",
    "            valid_loss /= len(validloader)\n",
    "            valid_accuracy /= len(validloader)\n",
    "            \n",
    "            train_losses.append(batch_mean_loss/len(trainloader))\n",
    "            valid_losses.append(valid_loss)\n",
    "\n",
    "            print(\"\\n\\tTraining Loss: {:.3f}.. \".format(batch_mean_loss/len(trainloader)),\n",
    "                  \"Validation Loss: {:.3f}.. \".format(valid_loss),\n",
    "                  \"Validation Accuracy: {:.3f}%\".format(valid_accuracy*100))\n",
    "            \n",
    "            if valid_loss_min > valid_loss:\n",
    "                print('\\tValidation loss decreased ({:.6f} --> {:.6f}).  Saving model ...\\n'.format(valid_loss_min,valid_loss))\n",
    "                torch.save(model.state_dict(), save_file_name)\n",
    "                valid_loss_min = valid_loss\n",
    "    return model, train_losses, valid_losses"
   ]
  },
  {
   "cell_type": "markdown",
   "metadata": {},
   "source": [
    "### Шалгах функц\n",
    "\n",
    "**Параметрууд**\n",
    "- `model` - сургасан модель\n",
    "\n",
    "**Буцаах утга**\n",
    "- `test_accuracy` - шалгалтын өгөгдлийг зөв таньсан хувь\n",
    "- `test_loss` - шалгалтын өгөгдлийн loss"
   ]
  },
  {
   "cell_type": "code",
   "execution_count": 5,
   "metadata": {},
   "outputs": [],
   "source": [
    "def test(model):\n",
    "    test_loss = 0\n",
    "    test_accuracy = 0\n",
    "    with torch.no_grad():\n",
    "        model.eval()\n",
    "        for images, labels in testloader:\n",
    "            log_ps = model(images)\n",
    "            test_loss += criterion(log_ps, labels)\n",
    "\n",
    "            ps = torch.exp(log_ps)\n",
    "            test_accuracy += get_accuracy(ps, labels)\n",
    "    model.train()\n",
    "\n",
    "    test_loss /= len(testloader)\n",
    "    test_accuracy /= len(testloader)\n",
    "    return test_accuracy, test_loss"
   ]
  },
  {
   "cell_type": "markdown",
   "metadata": {},
   "source": [
    "## Сургалт"
   ]
  },
  {
   "cell_type": "markdown",
   "metadata": {},
   "source": [
    "### 1. Энгийн Neural Network\n",
    "\n",
    "1 Hidden Layer\n",
    "\n",
    "**Model:** `Input(784)` **\\>** `Linear(160)` **\\>** `ReLU` **\\>** `Linear(10)` **\\>** `Softmax`\n",
    "\n",
    "**Loss:** Negative Log Likelihood Loss\n",
    "\n",
    "**Optimizer:** Stochastic Gradient Descend, `lr=0.07`, `momentum=0.9`\n",
    "\n",
    "**Training**: `epoch=15`, `batch_size=150`"
   ]
  },
  {
   "cell_type": "code",
   "execution_count": 24,
   "metadata": {},
   "outputs": [],
   "source": [
    "# Оролт\n",
    "input_size = 784\n",
    "# Нуугдмал давхарга\n",
    "hidden_size = 160\n",
    "# Гаралт\n",
    "output_size = 10"
   ]
  },
  {
   "cell_type": "code",
   "execution_count": 25,
   "metadata": {},
   "outputs": [],
   "source": [
    "class Classifier(nn.Module):\n",
    "    def __init__(self):\n",
    "        super().__init__()\n",
    "        self.layers = nn.Sequential(nn.Linear(input_size, hidden_size),\n",
    "                                    nn.ReLU(),\n",
    "                                    nn.Linear(hidden_size, output_size),\n",
    "                                    nn.LogSoftmax(dim=1))\n",
    "    def forward(self, x):\n",
    "        x = x.view(x.shape[0], -1)\n",
    "        x = self.layers(x)\n",
    "        return x"
   ]
  },
  {
   "cell_type": "code",
   "execution_count": 26,
   "metadata": {},
   "outputs": [],
   "source": [
    "model = Classifier()\n",
    "criterion = nn.NLLLoss()\n",
    "optimizer = optim.SGD(model.parameters(), lr=0.07, momentum=0.9)"
   ]
  },
  {
   "cell_type": "code",
   "execution_count": 27,
   "metadata": {},
   "outputs": [
    {
     "name": "stdout",
     "output_type": "stream",
     "text": [
      "Epoch: 1/15\n",
      "[=============================================] 100.0% 320/320 loss*: 0.388 accuracy*: 88.763%\n",
      "\tTraining Loss: 0.388..  Validation Loss: 0.197..  Validation Accuracy: 94.208%\n",
      "\tValidation loss decreased (inf --> 0.197177).  Saving model ...\n",
      "\n",
      "Epoch: 2/15\n",
      "[=============================================] 100.0% 320/320 loss*: 0.147 accuracy*: 95.748%\n",
      "\tTraining Loss: 0.147..  Validation Loss: 0.128..  Validation Accuracy: 96.400%\n",
      "\tValidation loss decreased (0.197177 --> 0.127556).  Saving model ...\n",
      "\n",
      "Epoch: 3/15\n",
      "[=============================================] 100.0% 320/320 loss*: 0.103 accuracy*: 96.973%\n",
      "\tTraining Loss: 0.103..  Validation Loss: 0.108..  Validation Accuracy: 96.767%\n",
      "\tValidation loss decreased (0.127556 --> 0.107565).  Saving model ...\n",
      "\n",
      "Epoch: 4/15\n",
      "[=============================================] 100.0% 320/320 loss*: 0.076 accuracy*: 97.821%\n",
      "\tTraining Loss: 0.076..  Validation Loss: 0.101..  Validation Accuracy: 96.842%\n",
      "\tValidation loss decreased (0.107565 --> 0.100526).  Saving model ...\n",
      "\n",
      "Epoch: 5/15\n",
      "[=============================================] 100.0% 320/320 loss*: 0.060 accuracy*: 98.250%\n",
      "\tTraining Loss: 0.060..  Validation Loss: 0.095..  Validation Accuracy: 97.192%\n",
      "\tValidation loss decreased (0.100526 --> 0.094518).  Saving model ...\n",
      "\n",
      "Epoch: 6/15\n",
      "[=============================================] 100.0% 320/320 loss*: 0.048 accuracy*: 98.596%\n",
      "\tTraining Loss: 0.048..  Validation Loss: 0.086..  Validation Accuracy: 97.358%\n",
      "\tValidation loss decreased (0.094518 --> 0.085999).  Saving model ...\n",
      "\n",
      "Epoch: 7/15\n",
      "[=============================================] 100.0% 320/320 loss*: 0.041 accuracy*: 98.840%\n",
      "\tTraining Loss: 0.041..  Validation Loss: 0.079..  Validation Accuracy: 97.625%\n",
      "\tValidation loss decreased (0.085999 --> 0.078676).  Saving model ...\n",
      "\n",
      "Epoch: 8/15\n",
      "[=============================================] 100.0% 320/320 loss*: 0.032 accuracy*: 99.117%\n",
      "\tTraining Loss: 0.032..  Validation Loss: 0.079..  Validation Accuracy: 97.683%\n",
      "Epoch: 9/15\n",
      "[=============================================] 100.0% 320/320 loss*: 0.027 accuracy*: 99.265%\n",
      "\tTraining Loss: 0.027..  Validation Loss: 0.079..  Validation Accuracy: 97.800%\n",
      "\tValidation loss decreased (0.078676 --> 0.078560).  Saving model ...\n",
      "\n",
      "Epoch: 10/15\n",
      "[=============================================] 100.0% 320/320 loss*: 0.022 accuracy*: 99.427%\n",
      "\tTraining Loss: 0.022..  Validation Loss: 0.078..  Validation Accuracy: 97.725%\n",
      "\tValidation loss decreased (0.078560 --> 0.078378).  Saving model ...\n",
      "\n",
      "Epoch: 11/15\n",
      "[=============================================] 100.0% 320/320 loss*: 0.018 accuracy*: 99.600%\n",
      "\tTraining Loss: 0.018..  Validation Loss: 0.075..  Validation Accuracy: 97.825%\n",
      "\tValidation loss decreased (0.078378 --> 0.075463).  Saving model ...\n",
      "\n",
      "Epoch: 12/15\n",
      "[=============================================] 100.0% 320/320 loss*: 0.015 accuracy*: 99.685%\n",
      "\tTraining Loss: 0.015..  Validation Loss: 0.079..  Validation Accuracy: 97.792%\n",
      "Epoch: 13/15\n",
      "[=============================================] 100.0% 320/320 loss*: 0.012 accuracy*: 99.777%\n",
      "\tTraining Loss: 0.012..  Validation Loss: 0.077..  Validation Accuracy: 97.833%\n",
      "Epoch: 14/15\n",
      "[=============================================] 100.0% 320/320 loss*: 0.010 accuracy*: 99.850%\n",
      "\tTraining Loss: 0.010..  Validation Loss: 0.079..  Validation Accuracy: 97.908%\n",
      "Epoch: 15/15\n",
      "[=============================================] 100.0% 320/320 loss*: 0.008 accuracy*: 99.894%\n",
      "\tTraining Loss: 0.008..  Validation Loss: 0.077..  Validation Accuracy: 97.917%\n"
     ]
    }
   ],
   "source": [
    "save_name = 'model1.pt'\n",
    "model, train_losses, valid_losses = train(model, criterion, optimizer, epoch=15, save_file_name=save_name)"
   ]
  },
  {
   "cell_type": "code",
   "execution_count": 28,
   "metadata": {},
   "outputs": [
    {
     "data": {
      "text/plain": [
       "<matplotlib.legend.Legend at 0x7f14dc4690f0>"
      ]
     },
     "execution_count": 28,
     "metadata": {},
     "output_type": "execute_result"
    },
    {
     "data": {
      "image/png": "[encoded data removed]",
      "text/plain": [
       "<Figure size 432x288 with 1 Axes>"
      ]
     },
     "metadata": {
      "image/png": {
       "height": 250,
       "width": 380
      },
      "needs_background": "light"
     },
     "output_type": "display_data"
    }
   ],
   "source": [
    "plt.plot(train_losses, label='Training loss')\n",
    "plt.plot(valid_losses, label='Validation loss')\n",
    "plt.legend(frameon=False)"
   ]
  },
  {
   "cell_type": "code",
   "execution_count": 29,
   "metadata": {},
   "outputs": [
    {
     "name": "stdout",
     "output_type": "stream",
     "text": [
      "Test Accuracy: 97.915%\n",
      "Test Loss: 0.070\n"
     ]
    }
   ],
   "source": [
    "# Хадгалсан утгуудаа унших\n",
    "model.load_state_dict(torch.load(save_name))\n",
    "# Шалгах\n",
    "test_accuracy, test_loss = test(model)\n",
    "print('Test Accuracy: {:.3f}%'.format(test_accuracy*100))\n",
    "print('Test Loss: {:.3f}'.format(test_loss))"
   ]
  },
  {
   "cell_type": "markdown",
   "metadata": {},
   "source": [
    "### 2. Энгийн Neural Network (sigmoid)\n",
    "\n",
    "1 Hidden Layer\n",
    "\n",
    "**Model:** `Input(784)` **\\>** `Linear(160)` **\\>** `Sigmoid` **\\>** `Linear(10)` **\\>** `Softmax`\n",
    "\n",
    "**Loss:** Negative Log Likelihood Loss\n",
    "\n",
    "**Optimizer:** Stochastic Gradient Descend, `lr=0.07`, `momentum=0.9`\n",
    "\n",
    "**Training**: `epoch=15`, `batch_size=150`"
   ]
  },
  {
   "cell_type": "code",
   "execution_count": 30,
   "metadata": {},
   "outputs": [],
   "source": [
    "# Оролт\n",
    "input_size = 784\n",
    "# Нуугдмал давхарга\n",
    "hidden_size = 160\n",
    "# Гаралт\n",
    "output_size = 10"
   ]
  },
  {
   "cell_type": "code",
   "execution_count": 31,
   "metadata": {},
   "outputs": [],
   "source": [
    "class Classifier(nn.Module):\n",
    "    def __init__(self):\n",
    "        super().__init__()\n",
    "        self.layers = nn.Sequential(nn.Linear(input_size, hidden_size),\n",
    "                                    nn.Sigmoid(),\n",
    "                                    nn.Linear(hidden_size, output_size),\n",
    "                                    nn.LogSoftmax(dim=1))\n",
    "    def forward(self, x):\n",
    "        x = x.view(x.shape[0], -1)\n",
    "        x = self.layers(x)\n",
    "        return x"
   ]
  },
  {
   "cell_type": "code",
   "execution_count": 32,
   "metadata": {},
   "outputs": [],
   "source": [
    "model = Classifier()\n",
    "criterion = nn.NLLLoss()\n",
    "optimizer = optim.SGD(model.parameters(), lr=0.07, momentum=0.9)"
   ]
  },
  {
   "cell_type": "code",
   "execution_count": 33,
   "metadata": {},
   "outputs": [
    {
     "name": "stdout",
     "output_type": "stream",
     "text": [
      "Epoch: 1/15\n",
      "[=============================================] 100.0% 320/320 loss*: 0.665 accuracy*: 80.667%\n",
      "\tTraining Loss: 0.665..  Validation Loss: 0.324..  Validation Accuracy: 90.483%\n",
      "\tValidation loss decreased (inf --> 0.323565).  Saving model ...\n",
      "\n",
      "Epoch: 2/15\n",
      "[=============================================] 100.0% 320/320 loss*: 0.299 accuracy*: 91.290%\n",
      "\tTraining Loss: 0.299..  Validation Loss: 0.276..  Validation Accuracy: 92.042%\n",
      "\tValidation loss decreased (0.323565 --> 0.275764).  Saving model ...\n",
      "\n",
      "Epoch: 3/15\n",
      "[=============================================] 100.0% 320/320 loss*: 0.253 accuracy*: 92.575%\n",
      "\tTraining Loss: 0.253..  Validation Loss: 0.244..  Validation Accuracy: 92.917%\n",
      "\tValidation loss decreased (0.275764 --> 0.244201).  Saving model ...\n",
      "\n",
      "Epoch: 4/15\n",
      "[=============================================] 100.0% 320/320 loss*: 0.219 accuracy*: 93.698%\n",
      "\tTraining Loss: 0.219..  Validation Loss: 0.219..  Validation Accuracy: 93.508%\n",
      "\tValidation loss decreased (0.244201 --> 0.218600).  Saving model ...\n",
      "\n",
      "Epoch: 5/15\n",
      "[=============================================] 100.0% 320/320 loss*: 0.190 accuracy*: 94.487%\n",
      "\tTraining Loss: 0.190..  Validation Loss: 0.192..  Validation Accuracy: 94.375%\n",
      "\tValidation loss decreased (0.218600 --> 0.192350).  Saving model ...\n",
      "\n",
      "Epoch: 6/15\n",
      "[=============================================] 100.0% 320/320 loss*: 0.169 accuracy*: 95.077%\n",
      "\tTraining Loss: 0.169..  Validation Loss: 0.176..  Validation Accuracy: 94.842%\n",
      "\tValidation loss decreased (0.192350 --> 0.176378).  Saving model ...\n",
      "\n",
      "Epoch: 7/15\n",
      "[=============================================] 100.0% 320/320 loss*: 0.151 accuracy*: 95.608%\n",
      "\tTraining Loss: 0.151..  Validation Loss: 0.163..  Validation Accuracy: 95.233%\n",
      "\tValidation loss decreased (0.176378 --> 0.163333).  Saving model ...\n",
      "\n",
      "Epoch: 8/15\n",
      "[=============================================] 100.0% 320/320 loss*: 0.138 accuracy*: 95.948%\n",
      "\tTraining Loss: 0.138..  Validation Loss: 0.149..  Validation Accuracy: 95.583%\n",
      "\tValidation loss decreased (0.163333 --> 0.148682).  Saving model ...\n",
      "\n",
      "Epoch: 9/15\n",
      "[=============================================] 100.0% 320/320 loss*: 0.124 accuracy*: 96.354%\n",
      "\tTraining Loss: 0.124..  Validation Loss: 0.144..  Validation Accuracy: 95.725%\n",
      "\tValidation loss decreased (0.148682 --> 0.144446).  Saving model ...\n",
      "\n",
      "Epoch: 10/15\n",
      "[=============================================] 100.0% 320/320 loss*: 0.113 accuracy*: 96.719%\n",
      "\tTraining Loss: 0.113..  Validation Loss: 0.137..  Validation Accuracy: 95.833%\n",
      "\tValidation loss decreased (0.144446 --> 0.136655).  Saving model ...\n",
      "\n",
      "Epoch: 11/15\n",
      "[=============================================] 100.0% 320/320 loss*: 0.104 accuracy*: 97.010%\n",
      "\tTraining Loss: 0.104..  Validation Loss: 0.131..  Validation Accuracy: 96.083%\n",
      "\tValidation loss decreased (0.136655 --> 0.131147).  Saving model ...\n",
      "\n",
      "Epoch: 12/15\n",
      "[=============================================] 100.0% 320/320 loss*: 0.097 accuracy*: 97.215%\n",
      "\tTraining Loss: 0.097..  Validation Loss: 0.122..  Validation Accuracy: 96.442%\n",
      "\tValidation loss decreased (0.131147 --> 0.121559).  Saving model ...\n",
      "\n",
      "Epoch: 13/15\n",
      "[=============================================] 100.0% 320/320 loss*: 0.090 accuracy*: 97.448%\n",
      "\tTraining Loss: 0.090..  Validation Loss: 0.115..  Validation Accuracy: 96.658%\n",
      "\tValidation loss decreased (0.121559 --> 0.115001).  Saving model ...\n",
      "\n",
      "Epoch: 14/15\n",
      "[=============================================] 100.0% 320/320 loss*: 0.084 accuracy*: 97.583%\n",
      "\tTraining Loss: 0.084..  Validation Loss: 0.113..  Validation Accuracy: 96.658%\n",
      "\tValidation loss decreased (0.115001 --> 0.112758).  Saving model ...\n",
      "\n",
      "Epoch: 15/15\n",
      "[=============================================] 100.0% 320/320 loss*: 0.078 accuracy*: 97.840%\n",
      "\tTraining Loss: 0.078..  Validation Loss: 0.110..  Validation Accuracy: 96.742%\n",
      "\tValidation loss decreased (0.112758 --> 0.109584).  Saving model ...\n",
      "\n"
     ]
    }
   ],
   "source": [
    "model, train_losses, valid_losses = train(model, criterion, optimizer, epoch=15, save_file_name='model2.pt')"
   ]
  },
  {
   "cell_type": "code",
   "execution_count": 34,
   "metadata": {},
   "outputs": [
    {
     "data": {
      "text/plain": [
       "<matplotlib.legend.Legend at 0x7f14d80df7f0>"
      ]
     },
     "execution_count": 34,
     "metadata": {},
     "output_type": "execute_result"
    },
    {
     "data": {
      "image/png": "[encoded data removed]",
      "text/plain": [
       "<Figure size 432x288 with 1 Axes>"
      ]
     },
     "metadata": {
      "image/png": {
       "height": 250,
       "width": 373
      },
      "needs_background": "light"
     },
     "output_type": "display_data"
    }
   ],
   "source": [
    "plt.plot(train_losses, label='Training loss')\n",
    "plt.plot(valid_losses, label='Validation loss')\n",
    "plt.legend(frameon=False)"
   ]
  },
  {
   "cell_type": "code",
   "execution_count": 35,
   "metadata": {},
   "outputs": [
    {
     "name": "stdout",
     "output_type": "stream",
     "text": [
      "Test Accuracy: 96.896%\n",
      "Test Loss: 0.100\n"
     ]
    }
   ],
   "source": [
    "# Хадгалсан утгуудаа унших\n",
    "model.load_state_dict(torch.load('model2.pt'))\n",
    "# Шалгах\n",
    "test_accuracy, test_loss = test(model)\n",
    "print('Test Accuracy: {:.3f}%'.format(test_accuracy*100))\n",
    "print('Test Loss: {:.3f}'.format(test_loss))"
   ]
  },
  {
   "cell_type": "markdown",
   "metadata": {},
   "source": [
    "### 3. Олон давхаргатай Neural Network\n",
    "\n",
    "2 Hidden Layer\n",
    "\n",
    "**Model:** `Input(784)` **\\>** `Linear(360)` **\\>** `ReLU` **\\>** `Linear(120)` **\\>** `ReLU` **\\>** `Linear(10)` **\\>** `Softmax`\n",
    "\n",
    "**Loss:** Negative Log Likelihood Loss\n",
    "\n",
    "**Optimizer:** Stochastic Gradient Descend, `lr=0.07`, `momentum=0.9`\n",
    "\n",
    "**Training**: `epoch=15`, `batch_size=150`"
   ]
  },
  {
   "cell_type": "code",
   "execution_count": 36,
   "metadata": {},
   "outputs": [],
   "source": [
    "input_size = 784\n",
    "hidden_sizes = [360, 120]\n",
    "output_size = 10"
   ]
  },
  {
   "cell_type": "code",
   "execution_count": 37,
   "metadata": {},
   "outputs": [],
   "source": [
    "class Classifier(nn.Module):\n",
    "    def __init__(self):\n",
    "        super().__init__()\n",
    "        self.layers = nn.Sequential(nn.Linear(input_size, hidden_sizes[0]),\n",
    "                                    nn.ReLU(),\n",
    "                                    nn.Linear(hidden_sizes[0], hidden_sizes[1]),\n",
    "                                    nn.ReLU(),\n",
    "                                    nn.Linear(hidden_sizes[1], output_size),\n",
    "                                    nn.LogSoftmax(dim=1))\n",
    "    def forward(self, x):\n",
    "        x = x.view(x.shape[0], -1)\n",
    "        x = self.layers(x)\n",
    "        return x"
   ]
  },
  {
   "cell_type": "code",
   "execution_count": 38,
   "metadata": {},
   "outputs": [],
   "source": [
    "model = Classifier()\n",
    "criterion = nn.NLLLoss()\n",
    "optimizer = optim.SGD(model.parameters(), lr=0.06, momentum=0.9)"
   ]
  },
  {
   "cell_type": "code",
   "execution_count": 39,
   "metadata": {},
   "outputs": [
    {
     "name": "stdout",
     "output_type": "stream",
     "text": [
      "Epoch: 1/15\n",
      "[=============================================] 100.0% 320/320 loss*: 0.457 accuracy*: 86.298%\n",
      "\tTraining Loss: 0.457..  Validation Loss: 0.163..  Validation Accuracy: 95.300%\n",
      "\tValidation loss decreased (inf --> 0.163265).  Saving model ...\n",
      "\n",
      "Epoch: 2/15\n",
      "[=============================================] 100.0% 320/320 loss*: 0.130 accuracy*: 96.129%\n",
      "\tTraining Loss: 0.130..  Validation Loss: 0.116..  Validation Accuracy: 96.417%\n",
      "\tValidation loss decreased (0.163265 --> 0.116223).  Saving model ...\n",
      "\n",
      "Epoch: 3/15\n",
      "[=============================================] 100.0% 320/320 loss*: 0.084 accuracy*: 97.438%\n",
      "\tTraining Loss: 0.084..  Validation Loss: 0.104..  Validation Accuracy: 96.725%\n",
      "\tValidation loss decreased (0.116223 --> 0.103850).  Saving model ...\n",
      "\n",
      "Epoch: 4/15\n",
      "[=============================================] 100.0% 320/320 loss*: 0.062 accuracy*: 98.067%\n",
      "\tTraining Loss: 0.062..  Validation Loss: 0.083..  Validation Accuracy: 97.617%\n",
      "\tValidation loss decreased (0.103850 --> 0.082799).  Saving model ...\n",
      "\n",
      "Epoch: 5/15\n",
      "[=============================================] 100.0% 320/320 loss*: 0.044 accuracy*: 98.644%\n",
      "\tTraining Loss: 0.044..  Validation Loss: 0.082..  Validation Accuracy: 97.633%\n",
      "\tValidation loss decreased (0.082799 --> 0.081728).  Saving model ...\n",
      "\n",
      "Epoch: 6/15\n",
      "[=============================================] 100.0% 320/320 loss*: 0.033 accuracy*: 98.965%\n",
      "\tTraining Loss: 0.033..  Validation Loss: 0.092..  Validation Accuracy: 97.258%\n",
      "Epoch: 7/15\n",
      "[=============================================] 100.0% 320/320 loss*: 0.025 accuracy*: 99.229%\n",
      "\tTraining Loss: 0.025..  Validation Loss: 0.088..  Validation Accuracy: 97.508%\n",
      "Epoch: 8/15\n",
      "[=============================================] 100.0% 320/320 loss*: 0.015 accuracy*: 99.583%\n",
      "\tTraining Loss: 0.015..  Validation Loss: 0.084..  Validation Accuracy: 97.783%\n",
      "Epoch: 9/15\n",
      "[=============================================] 100.0% 320/320 loss*: 0.013 accuracy*: 99.663%\n",
      "\tTraining Loss: 0.013..  Validation Loss: 0.087..  Validation Accuracy: 97.808%\n",
      "Epoch: 10/15\n",
      "[=============================================] 100.0% 320/320 loss*: 0.010 accuracy*: 99.719%\n",
      "\tTraining Loss: 0.010..  Validation Loss: 0.079..  Validation Accuracy: 97.933%\n",
      "\tValidation loss decreased (0.081728 --> 0.079306).  Saving model ...\n",
      "\n",
      "Epoch: 11/15\n",
      "[=============================================] 100.0% 320/320 loss*: 0.009 accuracy*: 99.729%\n",
      "\tTraining Loss: 0.009..  Validation Loss: 0.109..  Validation Accuracy: 97.208%\n",
      "Epoch: 12/15\n",
      "[=============================================] 100.0% 320/320 loss*: 0.008 accuracy*: 99.773%\n",
      "\tTraining Loss: 0.008..  Validation Loss: 0.087..  Validation Accuracy: 97.967%\n",
      "Epoch: 13/15\n",
      "[=============================================] 100.0% 320/320 loss*: 0.004 accuracy*: 99.923%\n",
      "\tTraining Loss: 0.004..  Validation Loss: 0.086..  Validation Accuracy: 98.033%\n",
      "Epoch: 14/15\n",
      "[=============================================] 100.0% 320/320 loss*: 0.002 accuracy*: 99.990%\n",
      "\tTraining Loss: 0.002..  Validation Loss: 0.081..  Validation Accuracy: 98.167%\n",
      "Epoch: 15/15\n",
      "[=============================================] 100.0% 320/320 loss*: 0.001 accuracy*: 100.000%\n",
      "\tTraining Loss: 0.001..  Validation Loss: 0.084..  Validation Accuracy: 98.175%\n"
     ]
    }
   ],
   "source": [
    "model, train_losses, valid_losses = train(model, criterion, optimizer, epoch=15, save_file_name='model3.pt')"
   ]
  },
  {
   "cell_type": "code",
   "execution_count": 40,
   "metadata": {},
   "outputs": [
    {
     "data": {
      "text/plain": [
       "<matplotlib.legend.Legend at 0x7f14d80d2400>"
      ]
     },
     "execution_count": 40,
     "metadata": {},
     "output_type": "execute_result"
    },
    {
     "data": {
      "image/png": "[encoded data removed]",
      "text/plain": [
       "<Figure size 432x288 with 1 Axes>"
      ]
     },
     "metadata": {
      "image/png": {
       "height": 250,
       "width": 373
      },
      "needs_background": "light"
     },
     "output_type": "display_data"
    }
   ],
   "source": [
    "plt.plot(train_losses, label='Training loss')\n",
    "plt.plot(valid_losses, label='Validation loss')\n",
    "plt.legend(frameon=False)"
   ]
  },
  {
   "cell_type": "code",
   "execution_count": 41,
   "metadata": {},
   "outputs": [
    {
     "name": "stdout",
     "output_type": "stream",
     "text": [
      "Test Accuracy: 98.020%\n",
      "Test Loss: 0.072\n"
     ]
    }
   ],
   "source": [
    "# Хадгалсан утгуудаа унших\n",
    "model.load_state_dict(torch.load('model3.pt'))\n",
    "# Шалгах\n",
    "test_accuracy, test_loss = test(model)\n",
    "print('Test Accuracy: {:.3f}%'.format(test_accuracy*100))\n",
    "print('Test Loss: {:.3f}'.format(test_loss))"
   ]
  },
  {
   "cell_type": "markdown",
   "metadata": {},
   "source": [
    "### 4. Neural Network with Dropout\n",
    "\n",
    "2 Hidden Layer + Dropout\n",
    "\n",
    "**Model:** `Input(784)` **\\>** `Linear(360)` **\\>** `ReLU` **\\>** `Dropout(0.2)` **\\>** `Linear(120)` **\\>** `ReLU` **\\>** `Dropout(0.2)` **\\>** `Linear(10)` **\\>** `Softmax`\n",
    "\n",
    "**Loss:** Negative Log Likelihood Loss\n",
    "\n",
    "**Optimizer:** Stochastic Gradient Descend, `lr=0.07`, `momentum=0.9`\n",
    "\n",
    "**Training**: `epoch=15`, `batch_size=150`"
   ]
  },
  {
   "cell_type": "code",
   "execution_count": 42,
   "metadata": {},
   "outputs": [],
   "source": [
    "input_size = 784\n",
    "hidden_sizes = [360, 120]\n",
    "output_size = 10"
   ]
  },
  {
   "cell_type": "code",
   "execution_count": 43,
   "metadata": {},
   "outputs": [],
   "source": [
    "class Classifier(nn.Module):\n",
    "    def __init__(self):\n",
    "        super().__init__()\n",
    "        self.layers = nn.Sequential(nn.Linear(input_size, hidden_sizes[0]),\n",
    "                                    nn.ReLU(),\n",
    "                                    nn.Dropout(0.2),\n",
    "                                    nn.Linear(hidden_sizes[0], hidden_sizes[1]),\n",
    "                                    nn.ReLU(),\n",
    "                                    nn.Dropout(0.2),\n",
    "                                    nn.Linear(hidden_sizes[1], output_size),\n",
    "                                    nn.LogSoftmax(dim=1))\n",
    "    def forward(self, x):\n",
    "        x = x.view(x.shape[0], -1)\n",
    "        x = self.layers(x)\n",
    "        return x"
   ]
  },
  {
   "cell_type": "code",
   "execution_count": 44,
   "metadata": {},
   "outputs": [],
   "source": [
    "model = Classifier()\n",
    "criterion = nn.NLLLoss()\n",
    "optimizer = optim.SGD(model.parameters(), lr=0.07, momentum=0.9)"
   ]
  },
  {
   "cell_type": "code",
   "execution_count": 45,
   "metadata": {},
   "outputs": [
    {
     "name": "stdout",
     "output_type": "stream",
     "text": [
      "Epoch: 1/15\n",
      "[=============================================] 100.0% 320/320 loss*: 0.454 accuracy*: 86.240%\n",
      "\tTraining Loss: 0.454..  Validation Loss: 0.167..  Validation Accuracy: 94.817%\n",
      "\tValidation loss decreased (inf --> 0.167160).  Saving model ...\n",
      "\n",
      "Epoch: 2/15\n",
      "[=============================================] 100.0% 320/320 loss*: 0.157 accuracy*: 95.369%\n",
      "\tTraining Loss: 0.157..  Validation Loss: 0.109..  Validation Accuracy: 96.742%\n",
      "\tValidation loss decreased (0.167160 --> 0.109347).  Saving model ...\n",
      "\n",
      "Epoch: 3/15\n",
      "[=============================================] 100.0% 320/320 loss*: 0.111 accuracy*: 96.635%\n",
      "\tTraining Loss: 0.111..  Validation Loss: 0.098..  Validation Accuracy: 97.108%\n",
      "\tValidation loss decreased (0.109347 --> 0.098235).  Saving model ...\n",
      "\n",
      "Epoch: 4/15\n",
      "[=============================================] 100.0% 320/320 loss*: 0.087 accuracy*: 97.323%\n",
      "\tTraining Loss: 0.087..  Validation Loss: 0.090..  Validation Accuracy: 97.267%\n",
      "\tValidation loss decreased (0.098235 --> 0.089638).  Saving model ...\n",
      "\n",
      "Epoch: 5/15\n",
      "[=============================================] 100.0% 320/320 loss*: 0.073 accuracy*: 97.750%\n",
      "\tTraining Loss: 0.073..  Validation Loss: 0.085..  Validation Accuracy: 97.383%\n",
      "\tValidation loss decreased (0.089638 --> 0.085399).  Saving model ...\n",
      "\n",
      "Epoch: 6/15\n",
      "[=============================================] 100.0% 320/320 loss*: 0.064 accuracy*: 97.996%\n",
      "\tTraining Loss: 0.064..  Validation Loss: 0.080..  Validation Accuracy: 97.633%\n",
      "\tValidation loss decreased (0.085399 --> 0.080396).  Saving model ...\n",
      "\n",
      "Epoch: 7/15\n",
      "[=============================================] 100.0% 320/320 loss*: 0.054 accuracy*: 98.300%\n",
      "\tTraining Loss: 0.054..  Validation Loss: 0.077..  Validation Accuracy: 97.883%\n",
      "\tValidation loss decreased (0.080396 --> 0.077091).  Saving model ...\n",
      "\n",
      "Epoch: 8/15\n",
      "[=============================================] 100.0% 320/320 loss*: 0.049 accuracy*: 98.413%\n",
      "\tTraining Loss: 0.049..  Validation Loss: 0.086..  Validation Accuracy: 97.667%\n",
      "Epoch: 9/15\n",
      "[=============================================] 100.0% 320/320 loss*: 0.044 accuracy*: 98.567%\n",
      "\tTraining Loss: 0.044..  Validation Loss: 0.079..  Validation Accuracy: 97.758%\n",
      "Epoch: 10/15\n",
      "[=============================================] 100.0% 320/320 loss*: 0.038 accuracy*: 98.754%\n",
      "\tTraining Loss: 0.038..  Validation Loss: 0.081..  Validation Accuracy: 97.750%\n",
      "Epoch: 11/15\n",
      "[=============================================] 100.0% 320/320 loss*: 0.035 accuracy*: 98.850%\n",
      "\tTraining Loss: 0.035..  Validation Loss: 0.082..  Validation Accuracy: 97.867%\n",
      "Epoch: 12/15\n",
      "[=============================================] 100.0% 320/320 loss*: 0.032 accuracy*: 98.948%\n",
      "\tTraining Loss: 0.032..  Validation Loss: 0.083..  Validation Accuracy: 97.892%\n",
      "Epoch: 13/15\n",
      "[=============================================] 100.0% 320/320 loss*: 0.029 accuracy*: 99.050%\n",
      "\tTraining Loss: 0.029..  Validation Loss: 0.074..  Validation Accuracy: 98.183%\n",
      "\tValidation loss decreased (0.077091 --> 0.074345).  Saving model ...\n",
      "\n",
      "Epoch: 14/15\n",
      "[=============================================] 100.0% 320/320 loss*: 0.026 accuracy*: 99.142%\n",
      "\tTraining Loss: 0.026..  Validation Loss: 0.079..  Validation Accuracy: 98.025%\n",
      "Epoch: 15/15\n",
      "[=============================================] 100.0% 320/320 loss*: 0.023 accuracy*: 99.192%\n",
      "\tTraining Loss: 0.023..  Validation Loss: 0.081..  Validation Accuracy: 98.067%\n"
     ]
    }
   ],
   "source": [
    "model, train_losses, valid_losses = train(model, criterion, optimizer, epoch=15, save_file_name='model4.pt')"
   ]
  },
  {
   "cell_type": "code",
   "execution_count": 46,
   "metadata": {},
   "outputs": [
    {
     "data": {
      "text/plain": [
       "<matplotlib.legend.Legend at 0x7f14cf9c1eb8>"
      ]
     },
     "execution_count": 46,
     "metadata": {},
     "output_type": "execute_result"
    },
    {
     "data": {
      "image/png": "[encoded data removed]",
      "text/plain": [
       "<Figure size 432x288 with 1 Axes>"
      ]
     },
     "metadata": {
      "image/png": {
       "height": 250,
       "width": 373
      },
      "needs_background": "light"
     },
     "output_type": "display_data"
    }
   ],
   "source": [
    "plt.plot(train_losses, label='Training loss')\n",
    "plt.plot(valid_losses, label='Validation loss')\n",
    "plt.legend(frameon=False)"
   ]
  },
  {
   "cell_type": "code",
   "execution_count": 47,
   "metadata": {},
   "outputs": [
    {
     "name": "stdout",
     "output_type": "stream",
     "text": [
      "Test Accuracy: 98.189%\n",
      "Test Loss: 0.065\n"
     ]
    }
   ],
   "source": [
    "# Хадгалсан утгуудаа унших\n",
    "model.load_state_dict(torch.load('model4.pt'))\n",
    "# Шалгах\n",
    "test_accuracy, test_loss = test(model)\n",
    "print('Test Accuracy: {:.3f}%'.format(test_accuracy*100))\n",
    "print('Test Loss: {:.3f}'.format(test_loss))"
   ]
  }
 ],
 "metadata": {
  "kernelspec": {
   "display_name": "Python 3",
   "language": "python",
   "name": "python3"
  },
  "language_info": {
   "codemirror_mode": {
    "name": "ipython",
    "version": 3
   },
   "file_extension": ".py",
   "mimetype": "text/x-python",
   "name": "python",
   "nbconvert_exporter": "python",
   "pygments_lexer": "ipython3",
   "version": "3.6.7"
  }
 },
 "nbformat": 4,
 "nbformat_minor": 2
}
