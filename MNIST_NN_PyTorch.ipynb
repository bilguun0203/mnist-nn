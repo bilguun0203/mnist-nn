{
 "cells": [
  {
   "cell_type": "markdown",
   "metadata": {},
   "source": [
    "# MNIST - NN - PyTorch"
   ]
  },
  {
   "cell_type": "code",
   "execution_count": 36,
   "metadata": {},
   "outputs": [],
   "source": [
    "import torch\n",
    "from torch import nn\n",
    "from torch import optim\n",
    "import matplotlib.pyplot as plt\n",
    "import helper\n",
    "%matplotlib inline"
   ]
  },
  {
   "cell_type": "code",
   "execution_count": 27,
   "metadata": {},
   "outputs": [],
   "source": [
    "def get_accuracy(predicted, target):\n",
    "    correct = 0\n",
    "    for p, y in zip(predicted, target):\n",
    "        if p.max(0)[1] == y.max(0)[1]:\n",
    "            correct += 1\n",
    "    return correct/predicted.shape[0]*100"
   ]
  },
  {
   "cell_type": "markdown",
   "metadata": {},
   "source": [
    "## Сургалтын өгөгдөл унших"
   ]
  },
  {
   "cell_type": "code",
   "execution_count": 53,
   "metadata": {},
   "outputs": [
    {
     "name": "stdout",
     "output_type": "stream",
     "text": [
      "Сургах өгөгдөл: 60000\n",
      "Шалгах өгөгдөл: 10000\n",
      "Batch тоо: 400\n"
     ]
    }
   ],
   "source": [
    "from torchvision import datasets, transforms\n",
    "\n",
    "transform = transforms.Compose([transforms.ToTensor(), transforms.Normalize((0.5,), (0.5,)),])\n",
    "\n",
    "trainset = datasets.MNIST('.', download=False, train=True, transform=transform)\n",
    "testset = datasets.MNIST('.', download=False, train=False, transform=transform)\n",
    "trainloader = torch.utils.data.DataLoader(trainset, batch_size=150, shuffle=True)\n",
    "testloader = torch.utils.data.DataLoader(testset, shuffle=True)\n",
    "print('Сургах өгөгдөл:', len(trainset))\n",
    "print('Шалгах өгөгдөл:', len(testset))\n",
    "print('Batch тоо:', len(trainloader))\n",
    "batch_count = len(trainloader)"
   ]
  },
  {
   "cell_type": "markdown",
   "metadata": {},
   "source": [
    "## Давхаргуудын хэмжээ"
   ]
  },
  {
   "cell_type": "code",
   "execution_count": 54,
   "metadata": {},
   "outputs": [],
   "source": [
    "input_size = 784\n",
    "hidden_sizes = [392]\n",
    "output_size = 10"
   ]
  },
  {
   "cell_type": "markdown",
   "metadata": {},
   "source": [
    "## Модель\n",
    "\n",
    "Input -> Hidden 1 -> ReLU -> Output -> Softmax\n",
    "\n",
    "Loss: Negative Log Likelihood Loss\n",
    "\n",
    "Optimizer: Stochastic Gradient Descend"
   ]
  },
  {
   "cell_type": "code",
   "execution_count": 56,
   "metadata": {},
   "outputs": [],
   "source": [
    "model = nn.Sequential(nn.Linear(input_size, hidden_sizes[0]),\n",
    "                      nn.ReLU(),\n",
    "                      nn.Linear(hidden_sizes[0], output_size),\n",
    "                      nn.Softmax(dim=1))\n",
    "\n",
    "criterion = nn.NLLLoss()\n",
    "optimizer = optim.SGD(model.parameters(), lr=0.003)"
   ]
  },
  {
   "cell_type": "markdown",
   "metadata": {},
   "source": [
    "## Сургах"
   ]
  },
  {
   "cell_type": "code",
   "execution_count": 57,
   "metadata": {},
   "outputs": [
    {
     "name": "stdout",
     "output_type": "stream",
     "text": [
      "Epoch: 1 / 5\n",
      "[============================================================] 100.0% 400/400 loss: -0.10971 accuracy: 0.00000%\n",
      "Epoch: 2 / 5\n",
      "[============================================================] 100.0% 400/400 loss: -0.13915 accuracy: 0.00000%\n",
      "Epoch: 3 / 5\n",
      "[============================================================] 100.0% 400/400 loss: -0.19808 accuracy: 0.00000%\n",
      "Epoch: 4 / 5\n",
      "[============================================================] 100.0% 400/400 loss: -0.26369 accuracy: 0.00000%\n",
      "Epoch: 5 / 5\n",
      "[============================================================] 100.0% 400/400 loss: -0.31667 accuracy: 0.00000%\n"
     ]
    }
   ],
   "source": [
    "# Epoch\n",
    "epochs = 5\n",
    "\n",
    "for e in range(1, epochs + 1):\n",
    "    batch_n = 0\n",
    "    epoch_loss = 0\n",
    "    epoch_accuracy = 0\n",
    "    print('Epoch:', e, '/', epochs)\n",
    "    # Batch\n",
    "    for images, labels in trainloader:\n",
    "        images = images.view(images.shape[0], -1)\n",
    "        \n",
    "        optimizer.zero_grad()\n",
    "        \n",
    "        output = model.forward(images)\n",
    "        loss = criterion(output, labels)\n",
    "        loss.backward()\n",
    "        optimizer.step()\n",
    "        epoch_loss += loss.item()\n",
    "#         epoch_accuracy += get_accuracy(output, labels)\n",
    "        \n",
    "        batch_n += 1\n",
    "        helper.print_progress(batch_n, batch_count, loss=epoch_loss/batch_n, accuracy=0)\n",
    "    else:\n",
    "        print('')\n",
    "#         print('\\tTraining loss:', epoch_loss/len(trainloader))"
   ]
  },
  {
   "cell_type": "markdown",
   "metadata": {},
   "source": [
    "## Шалгах"
   ]
  },
  {
   "cell_type": "code",
   "execution_count": 74,
   "metadata": {},
   "outputs": [
    {
     "name": "stdout",
     "output_type": "stream",
     "text": [
      "(tensor(0.5646), tensor(4))\n"
     ]
    },
    {
     "data": {
      "image/png": "[encoded data removed]",
      "text/plain": [
       "<Figure size 432x288 with 1 Axes>"
      ]
     },
     "metadata": {
      "needs_background": "light"
     },
     "output_type": "display_data"
    }
   ],
   "source": [
    "images, labels = next(iter(testloader))\n",
    "\n",
    "img = images[0]\n",
    "img_v = img.view(1, 784)\n",
    "\n",
    "with torch.no_grad():\n",
    "    logits = model.forward(img_v)\n",
    "\n",
    "plt.imshow(img[0])\n",
    "print(logits[0].max(0))"
   ]
  },
  {
   "cell_type": "code",
   "execution_count": 63,
   "metadata": {},
   "outputs": [
    {
     "name": "stdout",
     "output_type": "stream",
     "text": [
      "1135\n"
     ]
    }
   ],
   "source": [
    "correct = 0\n",
    "for image, label in testloader:\n",
    "    img_v = img.view(1, 784)\n",
    "    with torch.no_grad():\n",
    "        logits = model.forward(img_v)\n",
    "    if logits[0].max(0)[1] == label:\n",
    "        correct += 1\n",
    "print(correct)"
   ]
  }
 ],
 "metadata": {
  "kernelspec": {
   "display_name": "Python 3",
   "language": "python",
   "name": "python3"
  },
  "language_info": {
   "codemirror_mode": {
    "name": "ipython",
    "version": 3
   },
   "file_extension": ".py",
   "mimetype": "text/x-python",
   "name": "python",
   "nbconvert_exporter": "python",
   "pygments_lexer": "ipython3",
   "version": "3.6.7"
  }
 },
 "nbformat": 4,
 "nbformat_minor": 2
}
