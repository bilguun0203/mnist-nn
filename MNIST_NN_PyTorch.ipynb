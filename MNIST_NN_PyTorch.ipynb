{
 "cells": [
  {
   "cell_type": "markdown",
   "metadata": {},
   "source": [
    "# MNIST - NN - PyTorch"
   ]
  },
  {
   "cell_type": "code",
   "execution_count": 7,
   "metadata": {},
   "outputs": [],
   "source": [
    "import torch\n",
    "from torch import nn\n",
    "from torch import optim\n",
    "import matplotlib.pyplot as plt\n",
    "import helper\n",
    "%matplotlib inline"
   ]
  },
  {
   "cell_type": "code",
   "execution_count": 54,
   "metadata": {},
   "outputs": [],
   "source": [
    "def get_accuracy(predicted, target):\n",
    "    correct = sum(p == y for p, y in zip(predicted.max(1)[1], target))\n",
    "    return correct.item()/predicted.shape[0], correct.item(), predicted.shape[0]"
   ]
  },
  {
   "cell_type": "markdown",
   "metadata": {},
   "source": [
    "## Сургалтын өгөгдөл унших"
   ]
  },
  {
   "cell_type": "code",
   "execution_count": 9,
   "metadata": {},
   "outputs": [
    {
     "name": "stdout",
     "output_type": "stream",
     "text": [
      "Сургах өгөгдөл: 60000\n",
      "Шалгах өгөгдөл: 10000\n",
      "Batch тоо: 400\n"
     ]
    }
   ],
   "source": [
    "from torchvision import datasets, transforms\n",
    "\n",
    "transform = transforms.Compose([transforms.ToTensor(), transforms.Normalize((0,), (1,)),])\n",
    "\n",
    "trainset = datasets.MNIST('.', download=False, train=True, transform=transform)\n",
    "testset = datasets.MNIST('.', download=False, train=False, transform=transform)\n",
    "trainloader = torch.utils.data.DataLoader(trainset, batch_size=150, shuffle=True)\n",
    "testloader = torch.utils.data.DataLoader(testset, shuffle=True)\n",
    "print('Сургах өгөгдөл:', len(trainset))\n",
    "print('Шалгах өгөгдөл:', len(testset))\n",
    "print('Batch тоо:', len(trainloader))\n",
    "batch_count = len(trainloader)"
   ]
  },
  {
   "cell_type": "markdown",
   "metadata": {},
   "source": [
    "## Давхаргуудын хэмжээ"
   ]
  },
  {
   "cell_type": "code",
   "execution_count": 10,
   "metadata": {},
   "outputs": [],
   "source": [
    "input_size = 784\n",
    "hidden_sizes = [150]\n",
    "output_size = 10"
   ]
  },
  {
   "cell_type": "markdown",
   "metadata": {},
   "source": [
    "## Модель\n",
    "\n",
    "Input -> Hidden 1 -> ReLU -> Output -> Softmax\n",
    "\n",
    "Loss: Negative Log Likelihood Loss\n",
    "\n",
    "Optimizer: Stochastic Gradient Descend"
   ]
  },
  {
   "cell_type": "code",
   "execution_count": 48,
   "metadata": {},
   "outputs": [],
   "source": [
    "model = nn.Sequential(nn.Linear(input_size, hidden_sizes[0]),\n",
    "                      nn.ReLU(),\n",
    "                      nn.Linear(hidden_sizes[0], output_size),\n",
    "                      nn.LogSoftmax(dim=1))\n",
    "\n",
    "criterion = nn.NLLLoss()\n",
    "optimizer = optim.SGD(model.parameters(), lr=0.09)"
   ]
  },
  {
   "cell_type": "markdown",
   "metadata": {},
   "source": [
    "## Сургах"
   ]
  },
  {
   "cell_type": "code",
   "execution_count": 49,
   "metadata": {},
   "outputs": [
    {
     "name": "stdout",
     "output_type": "stream",
     "text": [
      "Epoch: 1 / 30\n",
      "[============================================================] 100.0% 400/400 loss: 0.64952 accuracy: 83.91333%Training loss: 0.6495176792517304\n",
      "Epoch: 2 / 30\n",
      "[============================================================] 100.0% 400/400 loss: 0.31657 accuracy: 91.02833%Training loss: 0.3165702513232827\n",
      "Epoch: 3 / 30\n",
      "[============================================================] 100.0% 400/400 loss: 0.26842 accuracy: 92.33833%Training loss: 0.26841717809438703\n",
      "Epoch: 4 / 30\n",
      "[============================================================] 100.0% 400/400 loss: 0.23379 accuracy: 93.36833%Training loss: 0.2337888747267425\n",
      "Epoch: 5 / 30\n",
      "[============================================================] 100.0% 400/400 loss: 0.20618 accuracy: 94.23667%Training loss: 0.20618370056152344\n",
      "Epoch: 6 / 30\n",
      "[============================================================] 100.0% 400/400 loss: 0.18407 accuracy: 94.84833%Training loss: 0.18406963039189578\n",
      "Epoch: 7 / 30\n",
      "[============================================================] 100.0% 400/400 loss: 0.16625 accuracy: 95.31667%Training loss: 0.16624735817313194\n",
      "Epoch: 8 / 30\n",
      "[============================================================] 100.0% 400/400 loss: 0.15122 accuracy: 95.74167%Training loss: 0.15121727185323836\n",
      "Epoch: 9 / 30\n",
      "[============================================================] 100.0% 400/400 loss: 0.13851 accuracy: 96.12500%Training loss: 0.13851492332294582\n",
      "Epoch: 10 / 30\n",
      "[============================================================] 100.0% 400/400 loss: 0.12748 accuracy: 96.43333%Training loss: 0.12748074633069337\n",
      "Epoch: 11 / 30\n",
      "[============================================================] 100.0% 400/400 loss: 0.11841 accuracy: 96.65500%Training loss: 0.11841405499726534\n",
      "Epoch: 12 / 30\n",
      "[============================================================] 100.0% 400/400 loss: 0.11016 accuracy: 96.89667%Training loss: 0.11016378276981413\n",
      "Epoch: 13 / 30\n",
      "[============================================================] 100.0% 400/400 loss: 0.10311 accuracy: 97.12000%Training loss: 0.10310884866863489\n",
      "Epoch: 14 / 30\n",
      "[============================================================] 100.0% 400/400 loss: 0.09662 accuracy: 97.33500%Training loss: 0.0966245523840189\n",
      "Epoch: 15 / 30\n",
      "[============================================================] 100.0% 400/400 loss: 0.09112 accuracy: 97.48167%Training loss: 0.09112213266082109\n",
      "Epoch: 16 / 30\n",
      "[============================================================] 100.0% 400/400 loss: 0.08589 accuracy: 97.61500%Training loss: 0.08589010893367231\n",
      "Epoch: 17 / 30\n",
      "[============================================================] 100.0% 400/400 loss: 0.08128 accuracy: 97.71167%Training loss: 0.08128073742147535\n",
      "Epoch: 18 / 30\n",
      "[============================================================] 100.0% 400/400 loss: 0.07724 accuracy: 97.89667%Training loss: 0.07723519478924573\n",
      "Epoch: 19 / 30\n",
      "[============================================================] 100.0% 400/400 loss: 0.07329 accuracy: 98.01167%Training loss: 0.07329183815047145\n",
      "Epoch: 20 / 30\n",
      "[============================================================] 100.0% 400/400 loss: 0.06991 accuracy: 98.11167%Training loss: 0.06991129830479621\n",
      "Epoch: 21 / 30\n",
      "[============================================================] 100.0% 400/400 loss: 0.06651 accuracy: 98.17167%Training loss: 0.06651435087900609\n",
      "Epoch: 22 / 30\n",
      "[============================================================] 100.0% 400/400 loss: 0.06373 accuracy: 98.27833%Training loss: 0.06373008965980262\n",
      "Epoch: 23 / 30\n",
      "[============================================================] 100.0% 400/400 loss: 0.06114 accuracy: 98.35667%Training loss: 0.0611418987205252\n",
      "Epoch: 24 / 30\n",
      "[============================================================] 100.0% 400/400 loss: 0.05849 accuracy: 98.42333%Training loss: 0.058493136744946245\n",
      "Epoch: 25 / 30\n",
      "[============================================================] 100.0% 400/400 loss: 0.05605 accuracy: 98.50667%Training loss: 0.05604598811129108\n",
      "Epoch: 26 / 30\n",
      "[============================================================] 100.0% 400/400 loss: 0.05366 accuracy: 98.61833%Training loss: 0.05366156519157812\n",
      "Epoch: 27 / 30\n",
      "[============================================================] 100.0% 400/400 loss: 0.05167 accuracy: 98.69167%Training loss: 0.051670549549162385\n",
      "Epoch: 28 / 30\n",
      "[============================================================] 100.0% 400/400 loss: 0.04973 accuracy: 98.71000%Training loss: 0.04972737577278167\n",
      "Epoch: 29 / 30\n",
      "[============================================================] 100.0% 400/400 loss: 0.04813 accuracy: 98.76167%Training loss: 0.048128869959618896\n",
      "Epoch: 30 / 30\n",
      "[============================================================] 100.0% 400/400 loss: 0.04622 accuracy: 98.81667%Training loss: 0.04621635772986338\n"
     ]
    }
   ],
   "source": [
    "# Epoch\n",
    "epochs = 30\n",
    "\n",
    "for e in range(1, epochs + 1):\n",
    "    batch_n = 1\n",
    "    epoch_loss = 0\n",
    "    epoch_accuracy = 0\n",
    "    print('Epoch:', e, '/', epochs)\n",
    "    # Batch\n",
    "    for images, labels in trainloader:\n",
    "        images = images.view(images.shape[0], -1)\n",
    "        \n",
    "        optimizer.zero_grad()\n",
    "        \n",
    "        output = model.forward(images)\n",
    "        loss = criterion(output, labels)\n",
    "        loss.backward()\n",
    "        optimizer.step()\n",
    "        epoch_loss += loss.item()\n",
    "        epoch_accuracy += get_accuracy(output, labels)\n",
    "        \n",
    "        helper.print_progress(batch_n, batch_count, loss=epoch_loss/batch_n, accuracy=epoch_accuracy/batch_n * 100)\n",
    "        batch_n += 1\n",
    "    else:\n",
    "        print('')\n",
    "#         print('Training loss:', epoch_loss/len(trainloader))"
   ]
  },
  {
   "cell_type": "markdown",
   "metadata": {},
   "source": [
    "## Шалгах"
   ]
  },
  {
   "cell_type": "code",
   "execution_count": 90,
   "metadata": {},
   "outputs": [
    {
     "name": "stdout",
     "output_type": "stream",
     "text": [
      "tensor(2)\n",
      "tensor(2)\n"
     ]
    },
    {
     "data": {
      "image/png": "[encoded data removed]",
      "text/plain": [
       "<Figure size 432x288 with 1 Axes>"
      ]
     },
     "metadata": {
      "needs_background": "light"
     },
     "output_type": "display_data"
    }
   ],
   "source": [
    "images, labels = next(iter(testloader))\n",
    "\n",
    "img = images[0]\n",
    "img_v = img.view(1, 784)\n",
    "\n",
    "with torch.no_grad():\n",
    "    logits = model.forward(img_v)\n",
    "\n",
    "plt.imshow(img[0])\n",
    "print(logits[0].max(0)[1])\n",
    "print(labels[0])"
   ]
  },
  {
   "cell_type": "code",
   "execution_count": 93,
   "metadata": {},
   "outputs": [],
   "source": [
    "correct = 0\n",
    "for image, label in testloader:\n",
    "    img_v = image.view(1, 784)\n",
    "    with torch.no_grad():\n",
    "        out = model.forward(img_v)\n",
    "#         print(out, out.max(1)[1], label)\n",
    "        correct += 1 if out.max(1)[1] == label else 0"
   ]
  },
  {
   "cell_type": "code",
   "execution_count": 98,
   "metadata": {},
   "outputs": [
    {
     "name": "stdout",
     "output_type": "stream",
     "text": [
      "97.68% - 9768/10000\n"
     ]
    }
   ],
   "source": [
    "print(f'{correct/len(testloader) * 100}% - {correct}/{len(testloader)}')"
   ]
  }
 ],
 "metadata": {
  "kernelspec": {
   "display_name": "Python 3",
   "language": "python",
   "name": "python3"
  },
  "language_info": {
   "codemirror_mode": {
    "name": "ipython",
    "version": 3
   },
   "file_extension": ".py",
   "mimetype": "text/x-python",
   "name": "python",
   "nbconvert_exporter": "python",
   "pygments_lexer": "ipython3",
   "version": "3.6.7"
  }
 },
 "nbformat": 4,
 "nbformat_minor": 2
}
